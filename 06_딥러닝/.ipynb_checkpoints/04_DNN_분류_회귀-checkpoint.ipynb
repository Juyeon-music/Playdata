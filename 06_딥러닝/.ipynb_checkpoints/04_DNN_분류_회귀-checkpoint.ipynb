{
 "cells": [
  {
   "cell_type": "markdown",
   "metadata": {},
   "source": [
    "# 데이터셋 API\n",
    "- 데이터 입력 파이프라인을 위한 패키지\n",
    "- tf.data 패키지에서 제공\n",
    "- tf.data.Dataset 추상클래스에서 상속된 여러가지 클래스 객체를 사용 또는 만들어 쓴다.\n",
    "\n",
    "## 데이터 입력 파이프라인이란\n",
    "**모델에 공급**되는 데이터에 대한 전처리 작업과 공급을 담당한다.    \n",
    "- 이미지 데이터의 경우\n",
    "    - 분산 파일시스템으로 부터 이미지를 모으는 작업, \n",
    "    - 이미지에 노이즈를 주거나 변형하는 작업, \n",
    "    - 배치 학습을 위해 무작위로 데이터를 선택하여 배치데이터를 만드는 작업\n",
    "- 텍스트 데이터 경우\n",
    "    - 원문을 토큰화하는 작업\n",
    "    - 임베딩하는 작업\n",
    "    - 길이가 다른 데이터를 패딩하여 합치는 작업 \n",
    "\n",
    "\n",
    "## 데이터셋 API 사용 세단계\n",
    "1. 데이터셋 생성\n",
    "    - from_tensor_slices(), from_generator() 클래스 메소드, tf.data.TFRecordDataset 클래스를 사용해 메모리나 파일에 있는 데이터를 데이터소스로 만든다.\n",
    "    - from_tensor_slices(): 리스트 넘파이배열, 텐서플로 자료형에서 데이터를 생성한다.\n",
    "2. 데이터셋 변형: map(), filter(), batch() 등 메소드를 이용해 데이터 소스를 변형한다.\n",
    "3. for 반복문에서 iterate를 통해 데이터셋 사용\n",
    "\n",
    "## Dataset의 주요 메소드\n",
    "- map(함수) : dataset의 각 원소들을 함수로 처리한다.\n",
    "- shuffle(크기): dataset의 원소들의 순서를 섞는다. 크기는 섞는 공간의 크기로  **데이터보다 크거나 같으면** 완전셔플, **적으면 일부만 가져와서 섞어** 완전셔플이 안된다.=>데이터가 너무너무 많으면 적게 주기도 한다.)\n",
    "- batch(size) : 반복시 제공할 데이터 수. 지정한 batch size만큼 data를 꺼내준다."
   ]
  },
  {
   "cell_type": "code",
   "execution_count": 12,
   "metadata": {
    "scrolled": true
   },
   "outputs": [],
   "source": [
    "import tensorflow as tf\n",
    "import numpy as np"
   ]
  },
  {
   "cell_type": "code",
   "execution_count": 3,
   "metadata": {},
   "outputs": [],
   "source": [
    "arr = np.arange(9)    # 0~8"
   ]
  },
  {
   "cell_type": "code",
   "execution_count": 4,
   "metadata": {},
   "outputs": [
    {
     "data": {
      "text/plain": [
       "tensorflow.python.data.ops.dataset_ops.TensorSliceDataset"
      ]
     },
     "execution_count": 4,
     "metadata": {},
     "output_type": "execute_result"
    }
   ],
   "source": [
    "# 메모리에 ndarray로 저장된 데이터를 이용해 Dataset 객체를 생성\n",
    "dataset = tf.data.Dataset.from_tensor_slices(arr)\n",
    "type(dataset)"
   ]
  },
  {
   "cell_type": "code",
   "execution_count": 5,
   "metadata": {},
   "outputs": [
    {
     "data": {
      "text/plain": [
       "tensorflow.python.data.ops.dataset_ops.MapDataset"
      ]
     },
     "execution_count": 5,
     "metadata": {},
     "output_type": "execute_result"
    }
   ],
   "source": [
    "# 각각의 원소를 변환하는 작업을 Dataset에 추가. - Dataset.map(변환함수)\n",
    "dataset = dataset.map(lambda x: x**2)\n",
    "type(dataset)"
   ]
  },
  {
   "cell_type": "code",
   "execution_count": 6,
   "metadata": {},
   "outputs": [],
   "source": [
    "dataset = dataset.filter(lambda x: (x!=0) & (x%2==0))   # 2의 배수만 걸러내기"
   ]
  },
  {
   "cell_type": "code",
   "execution_count": 7,
   "metadata": {},
   "outputs": [],
   "source": [
    "dataset = dataset.shuffle(9)    # 메모리의 크기 (data 3개씩 섞을거야) (보통 데이터의 전체 개수를 줌)"
   ]
  },
  {
   "cell_type": "code",
   "execution_count": 8,
   "metadata": {},
   "outputs": [],
   "source": [
    "dataset = dataset.batch(3)    # 한번에 지정한 갯수만큼 제공"
   ]
  },
  {
   "cell_type": "code",
   "execution_count": 9,
   "metadata": {},
   "outputs": [
    {
     "name": "stdout",
     "output_type": "stream",
     "text": [
      "tf.Tensor([16 36 64], shape=(3,), dtype=int64)\n",
      "tf.Tensor([4], shape=(1,), dtype=int64)\n"
     ]
    }
   ],
   "source": [
    "# Dataset에서 제공되는 값들을 조회\n",
    "for a in dataset:\n",
    "    print(a)"
   ]
  },
  {
   "cell_type": "code",
   "execution_count": 10,
   "metadata": {},
   "outputs": [
    {
     "data": {
      "text/plain": [
       "((10,), (10,))"
      ]
     },
     "execution_count": 10,
     "metadata": {},
     "output_type": "execute_result"
    }
   ],
   "source": [
    "x = np.arange(10)\n",
    "y = np.arange(10, 20)\n",
    "x.shape, y.shape"
   ]
  },
  {
   "cell_type": "code",
   "execution_count": 11,
   "metadata": {},
   "outputs": [
    {
     "name": "stdout",
     "output_type": "stream",
     "text": [
      "(<tf.Tensor: id=46, shape=(), dtype=int64, numpy=0>, <tf.Tensor: id=47, shape=(), dtype=int64, numpy=10>)\n"
     ]
    }
   ],
   "source": [
    "ds = tf.data.Dataset.from_tensor_slices((x, y))\n",
    "for a in ds:\n",
    "    print(a)\n",
    "    break"
   ]
  },
  {
   "cell_type": "code",
   "execution_count": 12,
   "metadata": {},
   "outputs": [],
   "source": [
    "ds2 = ds.map(lambda x, y: (x**2, y**3))"
   ]
  },
  {
   "cell_type": "code",
   "execution_count": 13,
   "metadata": {},
   "outputs": [
    {
     "name": "stdout",
     "output_type": "stream",
     "text": [
      "(<tf.Tensor: id=64, shape=(), dtype=int64, numpy=0>, <tf.Tensor: id=65, shape=(), dtype=int64, numpy=1000>)\n"
     ]
    }
   ],
   "source": [
    "for a in ds2:\n",
    "    print(a)\n",
    "    break"
   ]
  },
  {
   "cell_type": "code",
   "execution_count": 14,
   "metadata": {},
   "outputs": [
    {
     "name": "stdout",
     "output_type": "stream",
     "text": [
      "(<tf.Tensor: id=77, shape=(), dtype=int64, numpy=25>, <tf.Tensor: id=78, shape=(), dtype=int64, numpy=3375>)\n",
      "(<tf.Tensor: id=79, shape=(), dtype=int64, numpy=1>, <tf.Tensor: id=80, shape=(), dtype=int64, numpy=1331>)\n",
      "(<tf.Tensor: id=81, shape=(), dtype=int64, numpy=81>, <tf.Tensor: id=82, shape=(), dtype=int64, numpy=6859>)\n",
      "(<tf.Tensor: id=83, shape=(), dtype=int64, numpy=9>, <tf.Tensor: id=84, shape=(), dtype=int64, numpy=2197>)\n",
      "(<tf.Tensor: id=85, shape=(), dtype=int64, numpy=49>, <tf.Tensor: id=86, shape=(), dtype=int64, numpy=4913>)\n",
      "(<tf.Tensor: id=87, shape=(), dtype=int64, numpy=0>, <tf.Tensor: id=88, shape=(), dtype=int64, numpy=1000>)\n",
      "(<tf.Tensor: id=89, shape=(), dtype=int64, numpy=64>, <tf.Tensor: id=90, shape=(), dtype=int64, numpy=5832>)\n",
      "(<tf.Tensor: id=91, shape=(), dtype=int64, numpy=4>, <tf.Tensor: id=92, shape=(), dtype=int64, numpy=1728>)\n",
      "(<tf.Tensor: id=93, shape=(), dtype=int64, numpy=16>, <tf.Tensor: id=94, shape=(), dtype=int64, numpy=2744>)\n",
      "(<tf.Tensor: id=95, shape=(), dtype=int64, numpy=36>, <tf.Tensor: id=96, shape=(), dtype=int64, numpy=4096>)\n"
     ]
    }
   ],
   "source": [
    "ds3 = ds2.shuffle(10)\n",
    "for a in ds3:\n",
    "    print(a)"
   ]
  },
  {
   "cell_type": "code",
   "execution_count": 15,
   "metadata": {},
   "outputs": [
    {
     "name": "stdout",
     "output_type": "stream",
     "text": [
      "(<tf.Tensor: id=105, shape=(4,), dtype=int64, numpy=array([0, 1, 4, 9])>, <tf.Tensor: id=106, shape=(4,), dtype=int64, numpy=array([1000, 1331, 1728, 2197])>)\n",
      "(<tf.Tensor: id=107, shape=(4,), dtype=int64, numpy=array([16, 25, 36, 49])>, <tf.Tensor: id=108, shape=(4,), dtype=int64, numpy=array([2744, 3375, 4096, 4913])>)\n",
      "(<tf.Tensor: id=109, shape=(2,), dtype=int64, numpy=array([64, 81])>, <tf.Tensor: id=110, shape=(2,), dtype=int64, numpy=array([5832, 6859])>)\n"
     ]
    }
   ],
   "source": [
    "ds4 = ds2.batch(4)\n",
    "for a in ds4:\n",
    "    print(a)"
   ]
  },
  {
   "cell_type": "code",
   "execution_count": 17,
   "metadata": {},
   "outputs": [
    {
     "name": "stdout",
     "output_type": "stream",
     "text": [
      "(<tf.Tensor: id=28061, shape=(4,), dtype=int64, numpy=array([0, 1, 4, 9])>, <tf.Tensor: id=28062, shape=(4,), dtype=int64, numpy=array([1000, 1331, 1728, 2197])>)\n",
      "(<tf.Tensor: id=28063, shape=(4,), dtype=int64, numpy=array([16, 25, 36, 49])>, <tf.Tensor: id=28064, shape=(4,), dtype=int64, numpy=array([2744, 3375, 4096, 4913])>)\n",
      "(<tf.Tensor: id=28065, shape=(2,), dtype=int64, numpy=array([64, 81])>, <tf.Tensor: id=28066, shape=(2,), dtype=int64, numpy=array([5832, 6859])>)\n",
      "(<tf.Tensor: id=28067, shape=(4,), dtype=int64, numpy=array([0, 1, 4, 9])>, <tf.Tensor: id=28068, shape=(4,), dtype=int64, numpy=array([1000, 1331, 1728, 2197])>)\n",
      "(<tf.Tensor: id=28069, shape=(4,), dtype=int64, numpy=array([16, 25, 36, 49])>, <tf.Tensor: id=28070, shape=(4,), dtype=int64, numpy=array([2744, 3375, 4096, 4913])>)\n",
      "(<tf.Tensor: id=28071, shape=(2,), dtype=int64, numpy=array([64, 81])>, <tf.Tensor: id=28072, shape=(2,), dtype=int64, numpy=array([5832, 6859])>)\n",
      "(<tf.Tensor: id=28073, shape=(4,), dtype=int64, numpy=array([0, 1, 4, 9])>, <tf.Tensor: id=28074, shape=(4,), dtype=int64, numpy=array([1000, 1331, 1728, 2197])>)\n",
      "(<tf.Tensor: id=28075, shape=(4,), dtype=int64, numpy=array([16, 25, 36, 49])>, <tf.Tensor: id=28076, shape=(4,), dtype=int64, numpy=array([2744, 3375, 4096, 4913])>)\n",
      "(<tf.Tensor: id=28077, shape=(2,), dtype=int64, numpy=array([64, 81])>, <tf.Tensor: id=28078, shape=(2,), dtype=int64, numpy=array([5832, 6859])>)\n"
     ]
    }
   ],
   "source": [
    "for a in ds4.repeat(3):    # dataset.repeat(count) count 횟수만큼 반복. count 생략 시 무한 제공\n",
    "    print(a)"
   ]
  },
  {
   "cell_type": "code",
   "execution_count": 18,
   "metadata": {},
   "outputs": [],
   "source": [
    "dataset = tf.data.Dataset.from_tensor_slices((x,y)).map(lambda x, y: (x**2, y**3)).shuffle(10).batch(4).repeat(4)"
   ]
  },
  {
   "cell_type": "code",
   "execution_count": 19,
   "metadata": {
    "scrolled": true
   },
   "outputs": [
    {
     "name": "stdout",
     "output_type": "stream",
     "text": [
      "(<tf.Tensor: id=28109, shape=(4,), dtype=int64, numpy=array([16, 36,  0, 64])>, <tf.Tensor: id=28110, shape=(4,), dtype=int64, numpy=array([2744, 4096, 1000, 5832])>)\n",
      "(<tf.Tensor: id=28111, shape=(4,), dtype=int64, numpy=array([81,  9,  4, 25])>, <tf.Tensor: id=28112, shape=(4,), dtype=int64, numpy=array([6859, 2197, 1728, 3375])>)\n",
      "(<tf.Tensor: id=28113, shape=(2,), dtype=int64, numpy=array([49,  1])>, <tf.Tensor: id=28114, shape=(2,), dtype=int64, numpy=array([4913, 1331])>)\n",
      "(<tf.Tensor: id=28115, shape=(4,), dtype=int64, numpy=array([25, 36,  1,  4])>, <tf.Tensor: id=28116, shape=(4,), dtype=int64, numpy=array([3375, 4096, 1331, 1728])>)\n",
      "(<tf.Tensor: id=28117, shape=(4,), dtype=int64, numpy=array([81, 49, 64,  0])>, <tf.Tensor: id=28118, shape=(4,), dtype=int64, numpy=array([6859, 4913, 5832, 1000])>)\n",
      "(<tf.Tensor: id=28119, shape=(2,), dtype=int64, numpy=array([ 9, 16])>, <tf.Tensor: id=28120, shape=(2,), dtype=int64, numpy=array([2197, 2744])>)\n",
      "(<tf.Tensor: id=28121, shape=(4,), dtype=int64, numpy=array([ 4,  1, 49, 36])>, <tf.Tensor: id=28122, shape=(4,), dtype=int64, numpy=array([1728, 1331, 4913, 4096])>)\n",
      "(<tf.Tensor: id=28123, shape=(4,), dtype=int64, numpy=array([81, 16,  9,  0])>, <tf.Tensor: id=28124, shape=(4,), dtype=int64, numpy=array([6859, 2744, 2197, 1000])>)\n",
      "(<tf.Tensor: id=28125, shape=(2,), dtype=int64, numpy=array([64, 25])>, <tf.Tensor: id=28126, shape=(2,), dtype=int64, numpy=array([5832, 3375])>)\n",
      "(<tf.Tensor: id=28127, shape=(4,), dtype=int64, numpy=array([ 0, 16, 81,  9])>, <tf.Tensor: id=28128, shape=(4,), dtype=int64, numpy=array([1000, 2744, 6859, 2197])>)\n",
      "(<tf.Tensor: id=28129, shape=(4,), dtype=int64, numpy=array([ 1, 64, 49, 36])>, <tf.Tensor: id=28130, shape=(4,), dtype=int64, numpy=array([1331, 5832, 4913, 4096])>)\n",
      "(<tf.Tensor: id=28131, shape=(2,), dtype=int64, numpy=array([25,  4])>, <tf.Tensor: id=28132, shape=(2,), dtype=int64, numpy=array([3375, 1728])>)\n"
     ]
    }
   ],
   "source": [
    "for a in dataset:\n",
    "    print(a)"
   ]
  },
  {
   "cell_type": "markdown",
   "metadata": {},
   "source": [
    "# 1. 회귀 - Boston Housing Dataset\n",
    "보스턴 주택가격 dataset은 다음과 같은 속성을 바탕으로 해당 타운 주택 가격의 중앙값을 예측하는 문제.\n",
    "- CRIM: 범죄율\n",
    "- ZN: 25,000 평방피트당 주거지역 비율\n",
    "- INDUS: 비소매 상업지구 비율\n",
    "- CHAS: 찰스강에 인접해 있는지 여부(인접:1, 아니면:0)\n",
    "- NOX: 일산화질소 농도(단위: 0.1ppm)\n",
    "- RM: 주택당 방의 수\n",
    "- AGE: 1940년 이전에 건설된 주택의 비율\n",
    "- DIS: 5개의 보스턴 직업고용센터와의 거리(가중 평균)\n",
    "- RAD: 고속도로 접근성\n",
    "- TAX: 재산세율\n",
    "- PTRATIO: 학생/교사 비율\n",
    "- B: 흑인 비율\n",
    "- LSTAT: 하위 계층 비율\n",
    "\n",
    "예측해야하는 것\n",
    "- MEDV: 타운의 주택가격 중앙값(단위: 1,000달러)"
   ]
  },
  {
   "cell_type": "code",
   "execution_count": 20,
   "metadata": {},
   "outputs": [],
   "source": [
    "import numpy as np\n",
    "import tensorflow as tf\n",
    "from tensorflow import keras"
   ]
  },
  {
   "cell_type": "code",
   "execution_count": 21,
   "metadata": {},
   "outputs": [],
   "source": [
    "# random seed\n",
    "np.random.seed(1)\n",
    "tf.random.set_seed(1)"
   ]
  },
  {
   "cell_type": "code",
   "execution_count": 22,
   "metadata": {},
   "outputs": [],
   "source": [
    "# dataset loading\n",
    "(X_train, y_train), (X_test, y_test) = keras.datasets.boston_housing.load_data()"
   ]
  },
  {
   "cell_type": "code",
   "execution_count": 23,
   "metadata": {},
   "outputs": [
    {
     "data": {
      "text/plain": [
       "((404, 13), (102, 13))"
      ]
     },
     "execution_count": 23,
     "metadata": {},
     "output_type": "execute_result"
    }
   ],
   "source": [
    "X_train.shape, X_test.shape"
   ]
  },
  {
   "cell_type": "code",
   "execution_count": 24,
   "metadata": {},
   "outputs": [
    {
     "data": {
      "text/plain": [
       "array([15.2, 42.3, 50. , 21.1, 17.7])"
      ]
     },
     "execution_count": 24,
     "metadata": {},
     "output_type": "execute_result"
    }
   ],
   "source": [
    "y_train[:5]    # 회귀 (regression)"
   ]
  },
  {
   "cell_type": "code",
   "execution_count": 25,
   "metadata": {},
   "outputs": [
    {
     "data": {
      "text/plain": [
       "array([  1.23247,   0.     ,   8.14   ,   0.     ,   0.538  ,   6.142  ,\n",
       "        91.7    ,   3.9769 ,   4.     , 307.     ,  21.     , 396.9    ,\n",
       "        18.72   ])"
      ]
     },
     "execution_count": 25,
     "metadata": {},
     "output_type": "execute_result"
    }
   ],
   "source": [
    "X_train[0]"
   ]
  },
  {
   "cell_type": "code",
   "execution_count": 26,
   "metadata": {},
   "outputs": [],
   "source": [
    "# 하이퍼파라미터 값들을 설정\n",
    "\n",
    "LEARNING_RATE = 0.001\n",
    "N_EPOCHS = 200    # 전체 데이터 셋을 200번 사용\n",
    "N_BATCHS = 32    # batch_size. 32개 데이터셋마다 파라미터(가중치)를 업데이트\n",
    "\n",
    "N_TRAIN = X_train.shape[0]    # train set의 개수\n",
    "N_TEST = X_test.shape[0]    # test set의 개수\n",
    "N_FEATURES = X_train.shape[1]    # input data의 feature(컬럼) 개수"
   ]
  },
  {
   "cell_type": "code",
   "execution_count": 27,
   "metadata": {},
   "outputs": [],
   "source": [
    "# 1. Dataset 생성\n",
    "# batch(drop_raminder=True): 마지막에 batch_size보다 제공할 데이터가 적으면 학습 시 제공하지말고 버려라.\n",
    "# repeat(): 여러 epoch를 돌 때마다 계속 데이터를 제공하게 하기 위해. (repeat()를 지정하지 않으면 1 epoch 후 데이터를 제공하지 못해 오류 발생) (train set은 마지막에 repeat 지정함)\n",
    "\n",
    "train_dataset = tf.data.Dataset.from_tensor_slices((X_train, y_train)).shuffle(N_TRAIN).batch(N_BATCHS, drop_remainder=True).repeat()\n",
    "val_dataset = tf.data.Dataset.from_tensor_slices((X_test, y_test)).batch(N_BATCHS)"
   ]
  },
  {
   "cell_type": "code",
   "execution_count": 28,
   "metadata": {},
   "outputs": [],
   "source": [
    "# 2. 모델 생성\n",
    "\n",
    "def create_model():\n",
    "    tf.random.set_seed(1)\n",
    "    model = keras.Sequential()\n",
    "    # 입력 layer를 따로 정의.\n",
    "    # 첫번째 layer를 만들 때 input_shape(입력 데이터의 형태)를 지정하면 입력 layer층이 자동으로 생성된다.\n",
    "    model.add(keras.layers.Dense(units=16, activation='relu', input_shape=(N_FEATURES,)))    # units: 노드 개수\n",
    "    model.add(keras.layers.Dense(units=8, activation='relu'))\n",
    "    # 출력 layer\n",
    "    model.add(keras.layers.Dense(units=1))    # 회기의 출력층: units 1개, activation 함수는 사용하지 않는다.\n",
    "    \n",
    "    # 모델 컴파일\n",
    "    model.compile(optimazer=tf.keras.optimizers.Adam(learning_rate=LEARNING_RATE),    # optimazer의 learning rate 값 바꿔주고 싶으면 객체 생성 후 값 주기\n",
    "                 loss='mse')\n",
    "    \n",
    "    return model"
   ]
  },
  {
   "cell_type": "code",
   "execution_count": 29,
   "metadata": {},
   "outputs": [],
   "source": [
    "model = create_model()"
   ]
  },
  {
   "cell_type": "code",
   "execution_count": 30,
   "metadata": {},
   "outputs": [
    {
     "name": "stdout",
     "output_type": "stream",
     "text": [
      "Model: \"sequential\"\n",
      "_________________________________________________________________\n",
      "Layer (type)                 Output Shape              Param #   \n",
      "=================================================================\n",
      "dense (Dense)                (None, 16)                224       \n",
      "_________________________________________________________________\n",
      "dense_1 (Dense)              (None, 8)                 136       \n",
      "_________________________________________________________________\n",
      "dense_2 (Dense)              (None, 1)                 9         \n",
      "=================================================================\n",
      "Total params: 369\n",
      "Trainable params: 369\n",
      "Non-trainable params: 0\n",
      "_________________________________________________________________\n"
     ]
    }
   ],
   "source": [
    "model.summary()"
   ]
  },
  {
   "cell_type": "code",
   "execution_count": 31,
   "metadata": {},
   "outputs": [],
   "source": [
    "steps_per_epoch = N_TRAIN // N_BATCHS    # //: 나머지 버리고 나누기\n",
    "validation_steps = int(np.ceil(N_TEST/N_BATCHS))    # drop_ramainder 하지 않아서 나머지로도 학습함."
   ]
  },
  {
   "cell_type": "code",
   "execution_count": 32,
   "metadata": {
    "scrolled": true
   },
   "outputs": [
    {
     "name": "stdout",
     "output_type": "stream",
     "text": [
      "Train for 12 steps, validate for 4 steps\n",
      "Epoch 1/200\n",
      "12/12 [==============================] - 2s 126ms/step - loss: 949.3594 - val_loss: 669.0394\n",
      "Epoch 2/200\n",
      "12/12 [==============================] - 0s 5ms/step - loss: 495.8984 - val_loss: 419.8327\n",
      "Epoch 3/200\n",
      "12/12 [==============================] - 0s 5ms/step - loss: 296.6053 - val_loss: 290.8896\n",
      "Epoch 4/200\n",
      "12/12 [==============================] - 0s 4ms/step - loss: 201.3943 - val_loss: 206.3944\n",
      "Epoch 5/200\n",
      "12/12 [==============================] - 0s 5ms/step - loss: 139.0076 - val_loss: 159.6906\n",
      "Epoch 6/200\n",
      "12/12 [==============================] - 0s 4ms/step - loss: 105.4009 - val_loss: 120.0797\n",
      "Epoch 7/200\n",
      "12/12 [==============================] - 0s 5ms/step - loss: 87.9356 - val_loss: 102.6115\n",
      "Epoch 8/200\n",
      "12/12 [==============================] - 0s 5ms/step - loss: 80.0392 - val_loss: 89.3024\n",
      "Epoch 9/200\n",
      "12/12 [==============================] - 0s 5ms/step - loss: 72.4081 - val_loss: 84.6539\n",
      "Epoch 10/200\n",
      "12/12 [==============================] - 0s 5ms/step - loss: 68.3524 - val_loss: 82.8219\n",
      "Epoch 11/200\n",
      "12/12 [==============================] - 0s 4ms/step - loss: 66.8693 - val_loss: 82.6792\n",
      "Epoch 12/200\n",
      "12/12 [==============================] - 0s 4ms/step - loss: 61.8100 - val_loss: 95.8031\n",
      "Epoch 13/200\n",
      "12/12 [==============================] - 0s 4ms/step - loss: 63.9948 - val_loss: 82.7513\n",
      "Epoch 14/200\n",
      "12/12 [==============================] - 0s 4ms/step - loss: 60.5571 - val_loss: 83.5345\n",
      "Epoch 15/200\n",
      "12/12 [==============================] - 0s 4ms/step - loss: 61.7287 - val_loss: 76.2490\n",
      "Epoch 16/200\n",
      "12/12 [==============================] - 0s 4ms/step - loss: 57.7952 - val_loss: 74.2907\n",
      "Epoch 17/200\n",
      "12/12 [==============================] - 0s 4ms/step - loss: 57.1345 - val_loss: 80.6093\n",
      "Epoch 18/200\n",
      "12/12 [==============================] - 0s 4ms/step - loss: 55.0863 - val_loss: 75.4819\n",
      "Epoch 19/200\n",
      "12/12 [==============================] - 0s 4ms/step - loss: 59.4567 - val_loss: 72.7990\n",
      "Epoch 20/200\n",
      "12/12 [==============================] - 0s 4ms/step - loss: 53.0819 - val_loss: 82.2346\n",
      "Epoch 21/200\n",
      "12/12 [==============================] - 0s 4ms/step - loss: 52.1745 - val_loss: 69.9892\n",
      "Epoch 22/200\n",
      "12/12 [==============================] - 0s 4ms/step - loss: 55.2727 - val_loss: 71.9430\n",
      "Epoch 23/200\n",
      "12/12 [==============================] - 0s 4ms/step - loss: 53.4217 - val_loss: 70.7675\n",
      "Epoch 24/200\n",
      "12/12 [==============================] - 0s 4ms/step - loss: 54.3667 - val_loss: 82.9878\n",
      "Epoch 25/200\n",
      "12/12 [==============================] - 0s 4ms/step - loss: 50.5982 - val_loss: 71.1286\n",
      "Epoch 26/200\n",
      "12/12 [==============================] - 0s 4ms/step - loss: 48.9495 - val_loss: 69.8463\n",
      "Epoch 27/200\n",
      "12/12 [==============================] - 0s 5ms/step - loss: 55.3123 - val_loss: 70.7610\n",
      "Epoch 28/200\n",
      "12/12 [==============================] - 0s 5ms/step - loss: 50.4175 - val_loss: 68.5472\n",
      "Epoch 29/200\n",
      "12/12 [==============================] - 0s 5ms/step - loss: 51.2678 - val_loss: 68.0960\n",
      "Epoch 30/200\n",
      "12/12 [==============================] - 0s 5ms/step - loss: 52.8451 - val_loss: 66.6064\n",
      "Epoch 31/200\n",
      "12/12 [==============================] - 0s 5ms/step - loss: 51.7994 - val_loss: 66.8415\n",
      "Epoch 32/200\n",
      "12/12 [==============================] - 0s 5ms/step - loss: 49.5732 - val_loss: 66.1578\n",
      "Epoch 33/200\n",
      "12/12 [==============================] - 0s 5ms/step - loss: 47.2151 - val_loss: 66.5026\n",
      "Epoch 34/200\n",
      "12/12 [==============================] - 0s 5ms/step - loss: 48.5291 - val_loss: 73.1243\n",
      "Epoch 35/200\n",
      "12/12 [==============================] - 0s 6ms/step - loss: 50.2298 - val_loss: 74.1872\n",
      "Epoch 36/200\n",
      "12/12 [==============================] - 0s 5ms/step - loss: 50.4066 - val_loss: 75.2064\n",
      "Epoch 37/200\n",
      "12/12 [==============================] - 0s 5ms/step - loss: 49.1965 - val_loss: 64.0906\n",
      "Epoch 38/200\n",
      "12/12 [==============================] - 0s 5ms/step - loss: 46.9291 - val_loss: 63.5542\n",
      "Epoch 39/200\n",
      "12/12 [==============================] - 0s 5ms/step - loss: 48.1812 - val_loss: 67.1370\n",
      "Epoch 40/200\n",
      "12/12 [==============================] - 0s 4ms/step - loss: 45.0140 - val_loss: 63.7120\n",
      "Epoch 41/200\n",
      "12/12 [==============================] - 0s 4ms/step - loss: 49.2997 - val_loss: 67.7975\n",
      "Epoch 42/200\n",
      "12/12 [==============================] - 0s 4ms/step - loss: 49.4182 - val_loss: 63.3341\n",
      "Epoch 43/200\n",
      "12/12 [==============================] - 0s 4ms/step - loss: 44.9746 - val_loss: 62.5497\n",
      "Epoch 44/200\n",
      "12/12 [==============================] - 0s 4ms/step - loss: 44.8108 - val_loss: 60.7794\n",
      "Epoch 45/200\n",
      "12/12 [==============================] - 0s 4ms/step - loss: 46.1519 - val_loss: 63.3347\n",
      "Epoch 46/200\n",
      "12/12 [==============================] - 0s 4ms/step - loss: 48.0706 - val_loss: 61.5949\n",
      "Epoch 47/200\n",
      "12/12 [==============================] - 0s 4ms/step - loss: 45.6682 - val_loss: 67.0119\n",
      "Epoch 48/200\n",
      "12/12 [==============================] - 0s 5ms/step - loss: 45.5316 - val_loss: 60.3594\n",
      "Epoch 49/200\n",
      "12/12 [==============================] - 0s 4ms/step - loss: 45.4732 - val_loss: 70.0013\n",
      "Epoch 50/200\n",
      "12/12 [==============================] - 0s 4ms/step - loss: 42.3772 - val_loss: 57.7199\n",
      "Epoch 51/200\n",
      "12/12 [==============================] - 0s 4ms/step - loss: 43.5875 - val_loss: 57.5371\n",
      "Epoch 52/200\n",
      "12/12 [==============================] - 0s 5ms/step - loss: 43.4534 - val_loss: 58.0685\n",
      "Epoch 53/200\n",
      "12/12 [==============================] - 0s 5ms/step - loss: 40.3368 - val_loss: 60.9028\n",
      "Epoch 54/200\n",
      "12/12 [==============================] - 0s 4ms/step - loss: 42.0155 - val_loss: 57.2886\n",
      "Epoch 55/200\n",
      "12/12 [==============================] - 0s 4ms/step - loss: 40.4123 - val_loss: 56.6872\n",
      "Epoch 56/200\n",
      "12/12 [==============================] - 0s 5ms/step - loss: 41.5541 - val_loss: 63.5313\n",
      "Epoch 57/200\n",
      "12/12 [==============================] - 0s 5ms/step - loss: 43.6139 - val_loss: 54.5433\n",
      "Epoch 58/200\n",
      "12/12 [==============================] - 0s 4ms/step - loss: 43.6755 - val_loss: 53.2944\n",
      "Epoch 59/200\n",
      "12/12 [==============================] - 0s 4ms/step - loss: 39.7389 - val_loss: 54.9355\n",
      "Epoch 60/200\n",
      "12/12 [==============================] - 0s 4ms/step - loss: 43.7104 - val_loss: 59.0734\n",
      "Epoch 61/200\n",
      "12/12 [==============================] - 0s 5ms/step - loss: 44.3085 - val_loss: 54.8870\n",
      "Epoch 62/200\n",
      "12/12 [==============================] - 0s 4ms/step - loss: 38.7738 - val_loss: 56.3199\n",
      "Epoch 63/200\n",
      "12/12 [==============================] - 0s 5ms/step - loss: 40.6732 - val_loss: 57.0847\n",
      "Epoch 64/200\n",
      "12/12 [==============================] - 0s 4ms/step - loss: 41.9210 - val_loss: 51.8568\n",
      "Epoch 65/200\n",
      "12/12 [==============================] - 0s 4ms/step - loss: 40.2631 - val_loss: 52.6809\n",
      "Epoch 66/200\n",
      "12/12 [==============================] - 0s 4ms/step - loss: 40.8865 - val_loss: 52.8566\n",
      "Epoch 67/200\n",
      "12/12 [==============================] - 0s 5ms/step - loss: 41.9358 - val_loss: 52.6080\n",
      "Epoch 68/200\n",
      "12/12 [==============================] - 0s 4ms/step - loss: 41.2213 - val_loss: 52.1978\n",
      "Epoch 69/200\n",
      "12/12 [==============================] - 0s 4ms/step - loss: 39.4689 - val_loss: 51.2722\n",
      "Epoch 70/200\n",
      "12/12 [==============================] - 0s 4ms/step - loss: 39.0756 - val_loss: 57.3162\n",
      "Epoch 71/200\n",
      "12/12 [==============================] - 0s 5ms/step - loss: 39.3845 - val_loss: 51.7347\n",
      "Epoch 72/200\n",
      "12/12 [==============================] - 0s 5ms/step - loss: 38.7852 - val_loss: 49.6673\n",
      "Epoch 73/200\n",
      "12/12 [==============================] - 0s 4ms/step - loss: 39.4813 - val_loss: 51.8470\n",
      "Epoch 74/200\n",
      "12/12 [==============================] - 0s 4ms/step - loss: 36.1979 - val_loss: 50.2969\n",
      "Epoch 75/200\n",
      "12/12 [==============================] - 0s 5ms/step - loss: 38.4970 - val_loss: 50.3062\n",
      "Epoch 76/200\n",
      "12/12 [==============================] - 0s 4ms/step - loss: 38.2782 - val_loss: 49.4820\n",
      "Epoch 77/200\n",
      "12/12 [==============================] - 0s 4ms/step - loss: 36.1258 - val_loss: 49.2033\n",
      "Epoch 78/200\n",
      "12/12 [==============================] - 0s 4ms/step - loss: 36.9064 - val_loss: 47.3435\n",
      "Epoch 79/200\n",
      "12/12 [==============================] - 0s 4ms/step - loss: 40.9219 - val_loss: 48.1569\n",
      "Epoch 80/200\n",
      "12/12 [==============================] - 0s 4ms/step - loss: 34.4830 - val_loss: 49.6055\n"
     ]
    },
    {
     "name": "stdout",
     "output_type": "stream",
     "text": [
      "Epoch 81/200\n",
      "12/12 [==============================] - 0s 4ms/step - loss: 37.9979 - val_loss: 49.6344\n",
      "Epoch 82/200\n",
      "12/12 [==============================] - 0s 4ms/step - loss: 38.0212 - val_loss: 52.8385\n",
      "Epoch 83/200\n",
      "12/12 [==============================] - 0s 5ms/step - loss: 37.1797 - val_loss: 48.7374\n",
      "Epoch 84/200\n",
      "12/12 [==============================] - 0s 4ms/step - loss: 39.8558 - val_loss: 47.6387\n",
      "Epoch 85/200\n",
      "12/12 [==============================] - 0s 4ms/step - loss: 37.7488 - val_loss: 45.3280\n",
      "Epoch 86/200\n",
      "12/12 [==============================] - 0s 4ms/step - loss: 37.5706 - val_loss: 46.4715\n",
      "Epoch 87/200\n",
      "12/12 [==============================] - 0s 4ms/step - loss: 34.5654 - val_loss: 46.1320\n",
      "Epoch 88/200\n",
      "12/12 [==============================] - 0s 5ms/step - loss: 37.3821 - val_loss: 45.7529\n",
      "Epoch 89/200\n",
      "12/12 [==============================] - 0s 4ms/step - loss: 38.6554 - val_loss: 54.1233\n",
      "Epoch 90/200\n",
      "12/12 [==============================] - 0s 4ms/step - loss: 34.2428 - val_loss: 53.4115\n",
      "Epoch 91/200\n",
      "12/12 [==============================] - 0s 4ms/step - loss: 36.4502 - val_loss: 49.0155\n",
      "Epoch 92/200\n",
      "12/12 [==============================] - 0s 5ms/step - loss: 36.6059 - val_loss: 46.2865\n",
      "Epoch 93/200\n",
      "12/12 [==============================] - 0s 4ms/step - loss: 37.7519 - val_loss: 45.6794\n",
      "Epoch 94/200\n",
      "12/12 [==============================] - 0s 4ms/step - loss: 36.2530 - val_loss: 47.1644\n",
      "Epoch 95/200\n",
      "12/12 [==============================] - 0s 4ms/step - loss: 34.5985 - val_loss: 45.6281\n",
      "Epoch 96/200\n",
      "12/12 [==============================] - 0s 5ms/step - loss: 35.9254 - val_loss: 52.9245\n",
      "Epoch 97/200\n",
      "12/12 [==============================] - 0s 4ms/step - loss: 36.0383 - val_loss: 45.8097\n",
      "Epoch 98/200\n",
      "12/12 [==============================] - 0s 4ms/step - loss: 36.4449 - val_loss: 52.4143\n",
      "Epoch 99/200\n",
      "12/12 [==============================] - 0s 4ms/step - loss: 35.7758 - val_loss: 44.1248\n",
      "Epoch 100/200\n",
      "12/12 [==============================] - 0s 4ms/step - loss: 33.3600 - val_loss: 43.3309\n",
      "Epoch 101/200\n",
      "12/12 [==============================] - 0s 4ms/step - loss: 34.9208 - val_loss: 44.9886\n",
      "Epoch 102/200\n",
      "12/12 [==============================] - 0s 4ms/step - loss: 36.1844 - val_loss: 44.8259\n",
      "Epoch 103/200\n",
      "12/12 [==============================] - 0s 4ms/step - loss: 33.7687 - val_loss: 42.0657\n",
      "Epoch 104/200\n",
      "12/12 [==============================] - 0s 4ms/step - loss: 35.9849 - val_loss: 41.9366\n",
      "Epoch 105/200\n",
      "12/12 [==============================] - 0s 4ms/step - loss: 36.0889 - val_loss: 42.6139\n",
      "Epoch 106/200\n",
      "12/12 [==============================] - 0s 4ms/step - loss: 38.2139 - val_loss: 43.3875\n",
      "Epoch 107/200\n",
      "12/12 [==============================] - 0s 4ms/step - loss: 34.9706 - val_loss: 45.2025\n",
      "Epoch 108/200\n",
      "12/12 [==============================] - 0s 5ms/step - loss: 37.9427 - val_loss: 53.7631\n",
      "Epoch 109/200\n",
      "12/12 [==============================] - 0s 4ms/step - loss: 34.1461 - val_loss: 43.4990\n",
      "Epoch 110/200\n",
      "12/12 [==============================] - 0s 4ms/step - loss: 32.3548 - val_loss: 46.2043\n",
      "Epoch 111/200\n",
      "12/12 [==============================] - 0s 4ms/step - loss: 35.8495 - val_loss: 45.3049\n",
      "Epoch 112/200\n",
      "12/12 [==============================] - 0s 4ms/step - loss: 34.3704 - val_loss: 42.0962\n",
      "Epoch 113/200\n",
      "12/12 [==============================] - 0s 4ms/step - loss: 32.6681 - val_loss: 44.2485\n",
      "Epoch 114/200\n",
      "12/12 [==============================] - 0s 4ms/step - loss: 34.7770 - val_loss: 41.7584\n",
      "Epoch 115/200\n",
      "12/12 [==============================] - 0s 4ms/step - loss: 34.6085 - val_loss: 44.2217\n",
      "Epoch 116/200\n",
      "12/12 [==============================] - 0s 4ms/step - loss: 35.2339 - val_loss: 42.0944\n",
      "Epoch 117/200\n",
      "12/12 [==============================] - 0s 5ms/step - loss: 34.3959 - val_loss: 41.8788\n",
      "Epoch 118/200\n",
      "12/12 [==============================] - 0s 4ms/step - loss: 32.9183 - val_loss: 42.9186\n",
      "Epoch 119/200\n",
      "12/12 [==============================] - 0s 4ms/step - loss: 36.5824 - val_loss: 40.1623\n",
      "Epoch 120/200\n",
      "12/12 [==============================] - 0s 4ms/step - loss: 34.0506 - val_loss: 42.0814\n",
      "Epoch 121/200\n",
      "12/12 [==============================] - 0s 5ms/step - loss: 33.1825 - val_loss: 41.2213\n",
      "Epoch 122/200\n",
      "12/12 [==============================] - 0s 4ms/step - loss: 35.0129 - val_loss: 40.8660\n",
      "Epoch 123/200\n",
      "12/12 [==============================] - 0s 4ms/step - loss: 32.8367 - val_loss: 45.3195\n",
      "Epoch 124/200\n",
      "12/12 [==============================] - 0s 4ms/step - loss: 35.1748 - val_loss: 41.5093\n",
      "Epoch 125/200\n",
      "12/12 [==============================] - 0s 4ms/step - loss: 35.1973 - val_loss: 40.0258\n",
      "Epoch 126/200\n",
      "12/12 [==============================] - 0s 4ms/step - loss: 34.1129 - val_loss: 42.6201\n",
      "Epoch 127/200\n",
      "12/12 [==============================] - 0s 4ms/step - loss: 33.2035 - val_loss: 42.2098\n",
      "Epoch 128/200\n",
      "12/12 [==============================] - 0s 4ms/step - loss: 36.2463 - val_loss: 40.1929\n",
      "Epoch 129/200\n",
      "12/12 [==============================] - 0s 4ms/step - loss: 34.5341 - val_loss: 40.3371\n",
      "Epoch 130/200\n",
      "12/12 [==============================] - 0s 5ms/step - loss: 34.4497 - val_loss: 40.3196\n",
      "Epoch 131/200\n",
      "12/12 [==============================] - 0s 5ms/step - loss: 35.2919 - val_loss: 45.6900\n",
      "Epoch 132/200\n",
      "12/12 [==============================] - 0s 4ms/step - loss: 35.0514 - val_loss: 41.5225\n",
      "Epoch 133/200\n",
      "12/12 [==============================] - 0s 4ms/step - loss: 33.5456 - val_loss: 43.2417\n",
      "Epoch 134/200\n",
      "12/12 [==============================] - 0s 4ms/step - loss: 32.4783 - val_loss: 40.7598\n",
      "Epoch 135/200\n",
      "12/12 [==============================] - 0s 4ms/step - loss: 34.5527 - val_loss: 39.4646\n",
      "Epoch 136/200\n",
      "12/12 [==============================] - 0s 4ms/step - loss: 31.6436 - val_loss: 39.8913\n",
      "Epoch 137/200\n",
      "12/12 [==============================] - 0s 4ms/step - loss: 35.4350 - val_loss: 42.6453\n",
      "Epoch 138/200\n",
      "12/12 [==============================] - 0s 4ms/step - loss: 36.2712 - val_loss: 41.1435\n",
      "Epoch 139/200\n",
      "12/12 [==============================] - 0s 5ms/step - loss: 28.0141 - val_loss: 38.1570\n",
      "Epoch 140/200\n",
      "12/12 [==============================] - 0s 4ms/step - loss: 33.2611 - val_loss: 42.7158\n",
      "Epoch 141/200\n",
      "12/12 [==============================] - 0s 4ms/step - loss: 36.2858 - val_loss: 41.7149\n",
      "Epoch 142/200\n",
      "12/12 [==============================] - 0s 5ms/step - loss: 31.6701 - val_loss: 38.8623\n",
      "Epoch 143/200\n",
      "12/12 [==============================] - 0s 4ms/step - loss: 32.3086 - val_loss: 44.2870\n",
      "Epoch 144/200\n",
      "12/12 [==============================] - 0s 4ms/step - loss: 34.3426 - val_loss: 43.7989\n",
      "Epoch 145/200\n",
      "12/12 [==============================] - 0s 4ms/step - loss: 32.2754 - val_loss: 39.6457\n",
      "Epoch 146/200\n",
      "12/12 [==============================] - 0s 4ms/step - loss: 31.7872 - val_loss: 39.6097\n",
      "Epoch 147/200\n",
      "12/12 [==============================] - 0s 4ms/step - loss: 32.3067 - val_loss: 52.3634\n",
      "Epoch 148/200\n",
      "12/12 [==============================] - 0s 4ms/step - loss: 31.6022 - val_loss: 40.2937\n",
      "Epoch 149/200\n",
      "12/12 [==============================] - 0s 4ms/step - loss: 36.8571 - val_loss: 39.2336\n",
      "Epoch 150/200\n",
      "12/12 [==============================] - 0s 5ms/step - loss: 34.1980 - val_loss: 38.3601\n",
      "Epoch 151/200\n",
      "12/12 [==============================] - 0s 5ms/step - loss: 32.4353 - val_loss: 38.1661\n",
      "Epoch 152/200\n",
      "12/12 [==============================] - 0s 4ms/step - loss: 32.9579 - val_loss: 38.4678\n",
      "Epoch 153/200\n",
      "12/12 [==============================] - 0s 4ms/step - loss: 30.2262 - val_loss: 39.5587\n",
      "Epoch 154/200\n",
      "12/12 [==============================] - 0s 4ms/step - loss: 33.7132 - val_loss: 37.8927\n",
      "Epoch 155/200\n",
      "12/12 [==============================] - 0s 4ms/step - loss: 33.3594 - val_loss: 37.3122\n",
      "Epoch 156/200\n",
      "12/12 [==============================] - 0s 4ms/step - loss: 33.2025 - val_loss: 37.9003\n",
      "Epoch 157/200\n",
      "12/12 [==============================] - 0s 4ms/step - loss: 31.4123 - val_loss: 46.8245\n",
      "Epoch 158/200\n",
      "12/12 [==============================] - 0s 6ms/step - loss: 33.0559 - val_loss: 39.0567\n",
      "Epoch 159/200\n",
      "12/12 [==============================] - 0s 4ms/step - loss: 32.3401 - val_loss: 38.2448\n",
      "Epoch 160/200\n",
      "12/12 [==============================] - 0s 4ms/step - loss: 31.8269 - val_loss: 41.5223\n",
      "Epoch 161/200\n",
      "12/12 [==============================] - 0s 4ms/step - loss: 32.8451 - val_loss: 40.8484\n",
      "Epoch 162/200\n",
      "12/12 [==============================] - 0s 4ms/step - loss: 33.7051 - val_loss: 38.2300\n",
      "Epoch 163/200\n",
      "12/12 [==============================] - 0s 4ms/step - loss: 31.9008 - val_loss: 38.0820\n",
      "Epoch 164/200\n",
      "12/12 [==============================] - 0s 4ms/step - loss: 32.3749 - val_loss: 37.1174\n",
      "Epoch 165/200\n",
      "12/12 [==============================] - 0s 4ms/step - loss: 34.1073 - val_loss: 38.5219\n",
      "Epoch 166/200\n",
      "12/12 [==============================] - 0s 4ms/step - loss: 31.7106 - val_loss: 37.0165\n",
      "Epoch 167/200\n",
      "12/12 [==============================] - 0s 4ms/step - loss: 32.5535 - val_loss: 37.6067\n",
      "Epoch 168/200\n",
      "12/12 [==============================] - 0s 4ms/step - loss: 32.1541 - val_loss: 37.9235\n",
      "Epoch 169/200\n",
      "12/12 [==============================] - 0s 4ms/step - loss: 30.6816 - val_loss: 37.4378\n",
      "Epoch 170/200\n",
      "12/12 [==============================] - 0s 4ms/step - loss: 34.7842 - val_loss: 37.8981\n",
      "Epoch 171/200\n",
      "12/12 [==============================] - 0s 4ms/step - loss: 31.3176 - val_loss: 38.7089\n",
      "Epoch 172/200\n",
      "12/12 [==============================] - 0s 4ms/step - loss: 33.9508 - val_loss: 37.4911\n",
      "Epoch 173/200\n",
      "12/12 [==============================] - 0s 4ms/step - loss: 31.7471 - val_loss: 43.8273\n",
      "Epoch 174/200\n",
      "12/12 [==============================] - 0s 4ms/step - loss: 30.1415 - val_loss: 39.3511\n",
      "Epoch 175/200\n",
      "12/12 [==============================] - 0s 4ms/step - loss: 31.2639 - val_loss: 37.7515\n",
      "Epoch 176/200\n",
      "12/12 [==============================] - 0s 4ms/step - loss: 31.2156 - val_loss: 37.4884\n",
      "Epoch 177/200\n",
      "12/12 [==============================] - 0s 4ms/step - loss: 31.7631 - val_loss: 37.9915\n",
      "Epoch 178/200\n",
      "12/12 [==============================] - 0s 4ms/step - loss: 31.3041 - val_loss: 37.6961\n",
      "Epoch 179/200\n",
      "12/12 [==============================] - 0s 4ms/step - loss: 32.4612 - val_loss: 35.5311\n",
      "Epoch 180/200\n",
      "12/12 [==============================] - 0s 5ms/step - loss: 32.4694 - val_loss: 37.2094\n",
      "Epoch 181/200\n",
      "12/12 [==============================] - 0s 4ms/step - loss: 32.9294 - val_loss: 37.0755\n",
      "Epoch 182/200\n",
      "12/12 [==============================] - 0s 4ms/step - loss: 30.9065 - val_loss: 37.7486\n",
      "Epoch 183/200\n",
      "12/12 [==============================] - 0s 4ms/step - loss: 30.7523 - val_loss: 38.8372\n",
      "Epoch 184/200\n",
      "12/12 [==============================] - 0s 4ms/step - loss: 32.3974 - val_loss: 38.8008\n",
      "Epoch 185/200\n",
      "12/12 [==============================] - 0s 4ms/step - loss: 32.8782 - val_loss: 37.4504\n",
      "Epoch 186/200\n",
      "12/12 [==============================] - 0s 4ms/step - loss: 31.2347 - val_loss: 36.0664\n",
      "Epoch 187/200\n",
      "12/12 [==============================] - 0s 4ms/step - loss: 30.4015 - val_loss: 38.5921\n",
      "Epoch 188/200\n",
      "12/12 [==============================] - 0s 5ms/step - loss: 30.8710 - val_loss: 37.2300\n",
      "Epoch 189/200\n",
      "12/12 [==============================] - 0s 4ms/step - loss: 30.9989 - val_loss: 36.9521\n",
      "Epoch 190/200\n",
      "12/12 [==============================] - 0s 4ms/step - loss: 32.2398 - val_loss: 39.6285\n",
      "Epoch 191/200\n",
      "12/12 [==============================] - 0s 4ms/step - loss: 32.2858 - val_loss: 39.9500\n",
      "Epoch 192/200\n",
      "12/12 [==============================] - 0s 4ms/step - loss: 32.3661 - val_loss: 36.5713\n",
      "Epoch 193/200\n",
      "12/12 [==============================] - 0s 4ms/step - loss: 30.7041 - val_loss: 39.5814\n",
      "Epoch 194/200\n",
      "12/12 [==============================] - 0s 4ms/step - loss: 31.8112 - val_loss: 36.2594\n",
      "Epoch 195/200\n",
      "12/12 [==============================] - 0s 4ms/step - loss: 33.0281 - val_loss: 39.1703\n",
      "Epoch 196/200\n",
      "12/12 [==============================] - 0s 4ms/step - loss: 30.1612 - val_loss: 44.2269\n",
      "Epoch 197/200\n",
      "12/12 [==============================] - 0s 4ms/step - loss: 33.0803 - val_loss: 35.5718\n",
      "Epoch 198/200\n",
      "12/12 [==============================] - 0s 4ms/step - loss: 30.4219 - val_loss: 38.9221\n",
      "Epoch 199/200\n",
      "12/12 [==============================] - 0s 4ms/step - loss: 31.5830 - val_loss: 45.6199\n",
      "Epoch 200/200\n",
      "12/12 [==============================] - 0s 4ms/step - loss: 30.0127 - val_loss: 35.5922\n"
     ]
    }
   ],
   "source": [
    "history = model.fit(train_dataset,    # train dataset (X_train, y_train)\n",
    "                    epochs=N_EPOCHS,\n",
    "                    steps_per_epoch=steps_per_epoch,    # 1 epoch 당 step 수 (1 step: 한 번 가중치를 업데이트 하는 것, \n",
    "                    validation_data=val_dataset,    # 검증 dataset 지정        1 epoch: 전체 train 데이터를 한 번 학습)\n",
    "                    validation_steps=validation_steps)"
   ]
  },
  {
   "cell_type": "code",
   "execution_count": 33,
   "metadata": {},
   "outputs": [
    {
     "data": {
      "text/plain": [
       "dict_keys(['loss', 'val_loss'])"
      ]
     },
     "execution_count": 33,
     "metadata": {},
     "output_type": "execute_result"
    }
   ],
   "source": [
    "history.history.keys()"
   ]
  },
  {
   "cell_type": "code",
   "execution_count": 34,
   "metadata": {},
   "outputs": [
    {
     "data": {
      "text/plain": [
       "[949.3593953450521,\n",
       " 495.89835866292316,\n",
       " 296.6052551269531,\n",
       " 201.39434687296549,\n",
       " 139.0076446533203,\n",
       " 105.40087254842122,\n",
       " 87.9356295267741,\n",
       " 80.03920777638753,\n",
       " 72.40805498758952,\n",
       " 68.35238742828369,\n",
       " 66.8693167368571,\n",
       " 61.81003284454346,\n",
       " 63.99475288391113,\n",
       " 60.55707200368246,\n",
       " 61.72873520851135,\n",
       " 57.79518222808838,\n",
       " 57.13448715209961,\n",
       " 55.086304664611816,\n",
       " 59.45668029785156,\n",
       " 53.081883589426674,\n",
       " 52.174455324808754,\n",
       " 55.27265485127767,\n",
       " 53.42169221242269,\n",
       " 54.36672274271647,\n",
       " 50.59818442662557,\n",
       " 48.94949324925741,\n",
       " 55.3122828801473,\n",
       " 50.41745471954346,\n",
       " 51.26781447728475,\n",
       " 52.845097064971924,\n",
       " 51.799375216166176,\n",
       " 49.573222955067955,\n",
       " 47.21507946650187,\n",
       " 48.52908913294474,\n",
       " 50.229759534200035,\n",
       " 50.40663369496664,\n",
       " 49.19654734929403,\n",
       " 46.92907873789469,\n",
       " 48.18118588129679,\n",
       " 45.01400685310364,\n",
       " 49.29967419306437,\n",
       " 49.41816933949789,\n",
       " 44.974610328674316,\n",
       " 44.81082169214884,\n",
       " 46.151910622914635,\n",
       " 48.070573806762695,\n",
       " 45.6682022412618,\n",
       " 45.531646410624184,\n",
       " 45.47318696975708,\n",
       " 42.37716031074524,\n",
       " 43.587533156077065,\n",
       " 43.45343701044718,\n",
       " 40.336764653523765,\n",
       " 42.015453497568764,\n",
       " 40.41228485107422,\n",
       " 41.55408430099487,\n",
       " 43.61387221018473,\n",
       " 43.675486167271934,\n",
       " 39.73891552289327,\n",
       " 43.71040256818136,\n",
       " 44.308501402537026,\n",
       " 38.77378479639689,\n",
       " 40.67320410410563,\n",
       " 41.921043713887535,\n",
       " 40.26314131418864,\n",
       " 40.88648557662964,\n",
       " 41.93578990300497,\n",
       " 41.22128979365031,\n",
       " 39.468888918558754,\n",
       " 39.07561715443929,\n",
       " 39.384464820226036,\n",
       " 38.7851505279541,\n",
       " 39.48127714792887,\n",
       " 36.19786214828491,\n",
       " 38.496988932291664,\n",
       " 38.27818695704142,\n",
       " 36.12581960360209,\n",
       " 36.90639050801595,\n",
       " 40.92191664377848,\n",
       " 34.48299741744995,\n",
       " 37.99786710739136,\n",
       " 38.021237214406334,\n",
       " 37.17966890335083,\n",
       " 39.855808099110924,\n",
       " 37.74879662195841,\n",
       " 37.570592403411865,\n",
       " 34.565386851628624,\n",
       " 37.38211997350057,\n",
       " 38.65539137522379,\n",
       " 34.2428335348765,\n",
       " 36.450204372406006,\n",
       " 36.60585045814514,\n",
       " 37.751860777537026,\n",
       " 36.253018379211426,\n",
       " 34.59847370783488,\n",
       " 35.92540709177653,\n",
       " 36.03833198547363,\n",
       " 36.44486872355143,\n",
       " 35.77576224009196,\n",
       " 33.360030015309654,\n",
       " 34.92080672581991,\n",
       " 36.18440167109171,\n",
       " 33.76872857411703,\n",
       " 35.98489840825399,\n",
       " 36.08893156051636,\n",
       " 38.21391995747884,\n",
       " 34.970571517944336,\n",
       " 37.94269323348999,\n",
       " 34.14608414967855,\n",
       " 32.354759216308594,\n",
       " 35.84949207305908,\n",
       " 34.37042856216431,\n",
       " 32.6680596669515,\n",
       " 34.7770209312439,\n",
       " 34.608494917551674,\n",
       " 35.23392160733541,\n",
       " 34.39585224787394,\n",
       " 32.9183349609375,\n",
       " 36.582356452941895,\n",
       " 34.05060466130575,\n",
       " 33.182482163111366,\n",
       " 35.01285934448242,\n",
       " 32.836662689844765,\n",
       " 35.174803733825684,\n",
       " 35.19726816813151,\n",
       " 34.11286449432373,\n",
       " 33.203463077545166,\n",
       " 36.24631690979004,\n",
       " 34.534093697865806,\n",
       " 34.44968827565511,\n",
       " 35.29193560282389,\n",
       " 35.051413774490356,\n",
       " 33.54558149973551,\n",
       " 32.47829945882162,\n",
       " 34.55268859863281,\n",
       " 31.643550872802734,\n",
       " 35.43497292200724,\n",
       " 36.27118635177612,\n",
       " 28.0141278107961,\n",
       " 33.26113351186117,\n",
       " 36.28576612472534,\n",
       " 31.67011594772339,\n",
       " 32.30862013498942,\n",
       " 34.34261155128479,\n",
       " 32.27537798881531,\n",
       " 31.78715745608012,\n",
       " 32.30671548843384,\n",
       " 31.6021892229716,\n",
       " 36.857056856155396,\n",
       " 34.198046922683716,\n",
       " 32.43526291847229,\n",
       " 32.95792237917582,\n",
       " 30.22619930903117,\n",
       " 33.7131675084432,\n",
       " 33.35942761103312,\n",
       " 33.20249390602112,\n",
       " 31.41225576400757,\n",
       " 33.05590867996216,\n",
       " 32.340062936147056,\n",
       " 31.826877117156982,\n",
       " 32.845113118489586,\n",
       " 33.70507287979126,\n",
       " 31.90079116821289,\n",
       " 32.374880949656166,\n",
       " 34.10728104909261,\n",
       " 31.710634072621662,\n",
       " 32.553535302480064,\n",
       " 32.15405591328939,\n",
       " 30.681583404541016,\n",
       " 34.78420273462931,\n",
       " 31.317567586898804,\n",
       " 33.95084079106649,\n",
       " 31.74714716275533,\n",
       " 30.141461213429768,\n",
       " 31.263927777608234,\n",
       " 31.215583006540935,\n",
       " 31.763093789418537,\n",
       " 31.30406840642293,\n",
       " 32.461195389429726,\n",
       " 32.46936535835266,\n",
       " 32.92935458819071,\n",
       " 30.90649390220642,\n",
       " 30.75227443377177,\n",
       " 32.39735555648804,\n",
       " 32.878185749053955,\n",
       " 31.234743038813274,\n",
       " 30.401461283365887,\n",
       " 30.871023178100586,\n",
       " 30.998926162719727,\n",
       " 32.23979647954305,\n",
       " 32.285804430643715,\n",
       " 32.366114377975464,\n",
       " 30.70412015914917,\n",
       " 31.811171929041546,\n",
       " 33.028116623560585,\n",
       " 30.16117223103841,\n",
       " 33.08027569452921,\n",
       " 30.421891530354817,\n",
       " 31.58296251296997,\n",
       " 30.01272741953532]"
      ]
     },
     "execution_count": 34,
     "metadata": {},
     "output_type": "execute_result"
    }
   ],
   "source": [
    "history.history['loss']"
   ]
  },
  {
   "cell_type": "code",
   "execution_count": 35,
   "metadata": {},
   "outputs": [
    {
     "data": {
      "text/plain": [
       "[669.0393676757812,\n",
       " 419.8326721191406,\n",
       " 290.88961029052734,\n",
       " 206.3944206237793,\n",
       " 159.69064331054688,\n",
       " 120.07966804504395,\n",
       " 102.61147689819336,\n",
       " 89.30237579345703,\n",
       " 84.65388202667236,\n",
       " 82.8218765258789,\n",
       " 82.67915344238281,\n",
       " 95.80309867858887,\n",
       " 82.75128078460693,\n",
       " 83.53449726104736,\n",
       " 76.24900722503662,\n",
       " 74.29072189331055,\n",
       " 80.60928153991699,\n",
       " 75.4818868637085,\n",
       " 72.79901027679443,\n",
       " 82.23462104797363,\n",
       " 69.98923015594482,\n",
       " 71.94296073913574,\n",
       " 70.76745223999023,\n",
       " 82.98781204223633,\n",
       " 71.12861919403076,\n",
       " 69.84629535675049,\n",
       " 70.76101779937744,\n",
       " 68.54721736907959,\n",
       " 68.09595394134521,\n",
       " 66.60641574859619,\n",
       " 66.8415470123291,\n",
       " 66.15775680541992,\n",
       " 66.50264930725098,\n",
       " 73.12429714202881,\n",
       " 74.1872205734253,\n",
       " 75.20641040802002,\n",
       " 64.09057903289795,\n",
       " 63.55418872833252,\n",
       " 67.13696956634521,\n",
       " 63.71199131011963,\n",
       " 67.7975025177002,\n",
       " 63.33414602279663,\n",
       " 62.54971170425415,\n",
       " 60.77936601638794,\n",
       " 63.334675788879395,\n",
       " 61.5948600769043,\n",
       " 67.01192569732666,\n",
       " 60.359436988830566,\n",
       " 70.00131607055664,\n",
       " 57.71987533569336,\n",
       " 57.537057876586914,\n",
       " 58.068543910980225,\n",
       " 60.90284490585327,\n",
       " 57.2886438369751,\n",
       " 56.68720626831055,\n",
       " 63.531270027160645,\n",
       " 54.543288707733154,\n",
       " 53.29435634613037,\n",
       " 54.9354772567749,\n",
       " 59.07338190078735,\n",
       " 54.886993408203125,\n",
       " 56.31990623474121,\n",
       " 57.084742069244385,\n",
       " 51.85680675506592,\n",
       " 52.68091678619385,\n",
       " 52.85660362243652,\n",
       " 52.608044147491455,\n",
       " 52.19775867462158,\n",
       " 51.272159576416016,\n",
       " 57.316203117370605,\n",
       " 51.73465061187744,\n",
       " 49.667306423187256,\n",
       " 51.84699249267578,\n",
       " 50.2968807220459,\n",
       " 50.30615425109863,\n",
       " 49.482027530670166,\n",
       " 49.203293323516846,\n",
       " 47.34350252151489,\n",
       " 48.156911849975586,\n",
       " 49.60550022125244,\n",
       " 49.6344256401062,\n",
       " 52.838459968566895,\n",
       " 48.737380504608154,\n",
       " 47.63865947723389,\n",
       " 45.32802963256836,\n",
       " 46.471548080444336,\n",
       " 46.131985664367676,\n",
       " 45.75285625457764,\n",
       " 54.123329639434814,\n",
       " 53.41145181655884,\n",
       " 49.01552724838257,\n",
       " 46.28650617599487,\n",
       " 45.6793737411499,\n",
       " 47.16439771652222,\n",
       " 45.62810516357422,\n",
       " 52.924498558044434,\n",
       " 45.80967617034912,\n",
       " 52.414278984069824,\n",
       " 44.12484931945801,\n",
       " 43.33085060119629,\n",
       " 44.98858880996704,\n",
       " 44.82593250274658,\n",
       " 42.06568717956543,\n",
       " 41.9365873336792,\n",
       " 42.61393594741821,\n",
       " 43.38746452331543,\n",
       " 45.20253086090088,\n",
       " 53.763105392456055,\n",
       " 43.498950481414795,\n",
       " 46.20432996749878,\n",
       " 45.30488395690918,\n",
       " 42.09615182876587,\n",
       " 44.24854278564453,\n",
       " 41.75839185714722,\n",
       " 44.22173595428467,\n",
       " 42.0944242477417,\n",
       " 41.87882947921753,\n",
       " 42.91863298416138,\n",
       " 40.16231107711792,\n",
       " 42.08142423629761,\n",
       " 41.22134971618652,\n",
       " 40.86595153808594,\n",
       " 45.31949234008789,\n",
       " 41.509262561798096,\n",
       " 40.02584171295166,\n",
       " 42.62009859085083,\n",
       " 42.2098183631897,\n",
       " 40.19292640686035,\n",
       " 40.33713626861572,\n",
       " 40.31959819793701,\n",
       " 45.69003963470459,\n",
       " 41.52252435684204,\n",
       " 43.241673946380615,\n",
       " 40.759836196899414,\n",
       " 39.46463680267334,\n",
       " 39.891316413879395,\n",
       " 42.645347118377686,\n",
       " 41.14345836639404,\n",
       " 38.1570258140564,\n",
       " 42.71576642990112,\n",
       " 41.714930057525635,\n",
       " 38.86231088638306,\n",
       " 44.287024974823,\n",
       " 43.798898220062256,\n",
       " 39.645667552948,\n",
       " 39.60972261428833,\n",
       " 52.36341094970703,\n",
       " 40.29374885559082,\n",
       " 39.23363399505615,\n",
       " 38.36012840270996,\n",
       " 38.166078090667725,\n",
       " 38.46778392791748,\n",
       " 39.55868196487427,\n",
       " 37.8927435874939,\n",
       " 37.312203884124756,\n",
       " 37.900349617004395,\n",
       " 46.82450008392334,\n",
       " 39.0567364692688,\n",
       " 38.24475431442261,\n",
       " 41.522300720214844,\n",
       " 40.848381996154785,\n",
       " 38.2300009727478,\n",
       " 38.08196687698364,\n",
       " 37.11739778518677,\n",
       " 38.52185010910034,\n",
       " 37.01653242111206,\n",
       " 37.606712341308594,\n",
       " 37.92349147796631,\n",
       " 37.43776321411133,\n",
       " 37.8980770111084,\n",
       " 38.70891237258911,\n",
       " 37.4911413192749,\n",
       " 43.8272762298584,\n",
       " 39.3510627746582,\n",
       " 37.75148344039917,\n",
       " 37.488396644592285,\n",
       " 37.99145317077637,\n",
       " 37.696123123168945,\n",
       " 35.531071186065674,\n",
       " 37.20944595336914,\n",
       " 37.07551288604736,\n",
       " 37.74860429763794,\n",
       " 38.837249755859375,\n",
       " 38.80077600479126,\n",
       " 37.450366497039795,\n",
       " 36.066364765167236,\n",
       " 38.59206485748291,\n",
       " 37.229995250701904,\n",
       " 36.952091217041016,\n",
       " 39.62848949432373,\n",
       " 39.95001935958862,\n",
       " 36.57129621505737,\n",
       " 39.58144426345825,\n",
       " 36.25938606262207,\n",
       " 39.17027807235718,\n",
       " 44.22691631317139,\n",
       " 35.57179117202759,\n",
       " 38.922149658203125,\n",
       " 45.61993217468262,\n",
       " 35.59218692779541]"
      ]
     },
     "execution_count": 35,
     "metadata": {},
     "output_type": "execute_result"
    }
   ],
   "source": [
    "history.history['val_loss']"
   ]
  },
  {
   "cell_type": "code",
   "execution_count": 36,
   "metadata": {},
   "outputs": [
    {
     "data": {
      "image/png": "[encoded data removed]",
      "text/plain": [
       "<Figure size 936x576 with 1 Axes>"
      ]
     },
     "metadata": {
      "needs_background": "light"
     },
     "output_type": "display_data"
    }
   ],
   "source": [
    "# epoch당 loss, val_loss 변화를 선그래프로 시각화\n",
    "\n",
    "import matplotlib.pyplot as plt\n",
    "\n",
    "plt.figure(figsize=(13,8))\n",
    "plt.plot(range(1, N_EPOCHS+1), history.history['loss'], label='Train loss')\n",
    "plt.plot(range(1, N_EPOCHS+1), history.history['val_loss'], label='Validation loss')\n",
    "\n",
    "plt.xlabel('Epochs')\n",
    "plt.ylabel('Loss(MSE)')\n",
    "plt.ylim(0, 90)\n",
    "plt.legend()\n",
    "plt.grid(True)\n",
    "plt.show()"
   ]
  },
  {
   "cell_type": "code",
   "execution_count": 37,
   "metadata": {},
   "outputs": [
    {
     "name": "stdout",
     "output_type": "stream",
     "text": [
      "4/4 [==============================] - 0s 2ms/step - loss: 35.5922\n"
     ]
    },
    {
     "data": {
      "text/plain": [
       "35.59218692779541"
      ]
     },
     "execution_count": 37,
     "metadata": {},
     "output_type": "execute_result"
    }
   ],
   "source": [
    "# 평가\n",
    "model.evaluate(val_dataset)"
   ]
  },
  {
   "cell_type": "markdown",
   "metadata": {},
   "source": [
    "## 2. Classification\n",
    "\n",
    "### Fashion MNIST(MNIST) Dataset - 다중분류"
   ]
  },
  {
   "cell_type": "markdown",
   "metadata": {},
   "source": [
    "10개의 범주(category)와 70,000개의 흑백 이미지로 구성된 [패션 MNIST](https://github.com/zalandoresearch/fashion-mnist) 데이터셋. \n",
    "이미지는 해상도(28x28 픽셀)가 낮고 다음처럼 개별 의류 품목을 나타낸다:\n",
    "\n",
    "<table>\n",
    "  <tr><td>\n",
    "    <img src=\"https://tensorflow.org/images/fashion-mnist-sprite.png\"\n",
    "         alt=\"Fashion MNIST sprite\"  width=\"600\">\n",
    "  </td></tr>\n",
    "  <tr><td align=\"center\">\n",
    "    <b>그림</b> <a href=\"https://github.com/zalandoresearch/fashion-mnist\">패션-MNIST 샘플</a> (Zalando, MIT License).<br/>&nbsp;\n",
    "  </td></tr>\n",
    "</table>\n",
    "\n",
    "패션 MNIST와 손글씨 MNIST는  비교적 작기 때문에 알고리즘의 작동 여부를 확인하기 위해 사용되곤 하며 코드를 테스트하고 디버깅하는 용도로 좋다."
   ]
  },
  {
   "cell_type": "markdown",
   "metadata": {},
   "source": [
    "이미지는 28x28 크기의 넘파이 배열이고 픽셀 값은 0과 255 사이이다. *레이블*(label)은 0에서 9까지의 정수 배열이다. 아래 표는 이미지에 있는 의류의 **클래스**(class)를 나낸다.\n",
    "\n",
    "<table>\n",
    "  <tr>\n",
    "    <th>레이블</th>\n",
    "    <th>클래스</th>\n",
    "  </tr>\n",
    "  <tr>\n",
    "    <td>0</td>\n",
    "    <td>T-shirt/top</td>\n",
    "  </tr>\n",
    "  <tr>\n",
    "    <td>1</td>\n",
    "    <td>Trouser</td>\n",
    "  </tr>\n",
    "    <tr>\n",
    "    <td>2</td>\n",
    "    <td>Pullover</td>\n",
    "  </tr>\n",
    "    <tr>\n",
    "    <td>3</td>\n",
    "    <td>Dress</td>\n",
    "  </tr>\n",
    "    <tr>\n",
    "    <td>4</td>\n",
    "    <td>Coat</td>\n",
    "  </tr>\n",
    "    <tr>\n",
    "    <td>5</td>\n",
    "    <td>Sandal</td>\n",
    "  </tr>\n",
    "    <tr>\n",
    "    <td>6</td>\n",
    "    <td>Shirt</td>\n",
    "  </tr>\n",
    "    <tr>\n",
    "    <td>7</td>\n",
    "    <td>Sneaker</td>\n",
    "  </tr>\n",
    "    <tr>\n",
    "    <td>8</td>\n",
    "    <td>Bag</td>\n",
    "  </tr>\n",
    "    <tr>\n",
    "    <td>9</td>\n",
    "    <td>Ankle boot</td>\n",
    "  </tr>\n",
    "</table>\n",
    "\n",
    "각 이미지는 하나의 레이블에 매핑되어 있다. 데이터셋에 클래스 이름이 들어있지 않기 때문에 나중에 이미지를 출력할 때 사용하기 위해 별도의 변수를 만들어 저장한다."
   ]
  },
  {
   "cell_type": "code",
   "execution_count": 38,
   "metadata": {},
   "outputs": [],
   "source": [
    "class_names = ['T-shirt/top', 'Trousers', 'Pullover', 'Dress', 'Coat', 'Sandal', 'Shirt', 'Sneaker', 'Bag', 'Ankle boot']"
   ]
  },
  {
   "cell_type": "code",
   "execution_count": 39,
   "metadata": {},
   "outputs": [],
   "source": [
    "import numpy as np\n",
    "import tensorflow as tf\n",
    "from tensorflow import keras"
   ]
  },
  {
   "cell_type": "code",
   "execution_count": 40,
   "metadata": {},
   "outputs": [],
   "source": [
    "np.random.seed(1)\n",
    "tf.random.set_seed(1)"
   ]
  },
  {
   "cell_type": "code",
   "execution_count": 41,
   "metadata": {},
   "outputs": [
    {
     "name": "stdout",
     "output_type": "stream",
     "text": [
      "Downloading data from https://storage.googleapis.com/tensorflow/tf-keras-datasets/train-labels-idx1-ubyte.gz\n",
      "32768/29515 [=================================] - 0s 0us/step\n",
      "Downloading data from https://storage.googleapis.com/tensorflow/tf-keras-datasets/train-images-idx3-ubyte.gz\n",
      "26427392/26421880 [==============================] - 3s 0us/step\n",
      "Downloading data from https://storage.googleapis.com/tensorflow/tf-keras-datasets/t10k-labels-idx1-ubyte.gz\n",
      "8192/5148 [===============================================] - 0s 0us/step\n",
      "Downloading data from https://storage.googleapis.com/tensorflow/tf-keras-datasets/t10k-images-idx3-ubyte.gz\n",
      "4423680/4422102 [==============================] - 0s 0us/step\n"
     ]
    }
   ],
   "source": [
    "# Dataset 읽기\n",
    "(X_train, y_train), (X_test, y_test) = keras.datasets.fashion_mnist.load_data()"
   ]
  },
  {
   "cell_type": "code",
   "execution_count": 43,
   "metadata": {},
   "outputs": [
    {
     "data": {
      "text/plain": [
       "((60000, 28, 28), (60000,), (10000, 28, 28), (10000,))"
      ]
     },
     "execution_count": 43,
     "metadata": {},
     "output_type": "execute_result"
    }
   ],
   "source": [
    "X_train.shape, y_train.shape, X_test.shape, y_test.shape"
   ]
  },
  {
   "cell_type": "code",
   "execution_count": 44,
   "metadata": {},
   "outputs": [
    {
     "data": {
      "text/plain": [
       "(array([0, 1, 2, 3, 4, 5, 6, 7, 8, 9], dtype=uint8),\n",
       " array([6000, 6000, 6000, 6000, 6000, 6000, 6000, 6000, 6000, 6000]))"
      ]
     },
     "execution_count": 44,
     "metadata": {},
     "output_type": "execute_result"
    }
   ],
   "source": [
    "np.unique(y_train, return_counts=True)"
   ]
  },
  {
   "cell_type": "code",
   "execution_count": 45,
   "metadata": {},
   "outputs": [
    {
     "data": {
      "text/plain": [
       "(array([0, 1, 2, 3, 4, 5, 6, 7, 8, 9], dtype=uint8),\n",
       " array([1000, 1000, 1000, 1000, 1000, 1000, 1000, 1000, 1000, 1000]))"
      ]
     },
     "execution_count": 45,
     "metadata": {},
     "output_type": "execute_result"
    }
   ],
   "source": [
    "np.unique(y_test, return_counts=True)"
   ]
  },
  {
   "cell_type": "code",
   "execution_count": 53,
   "metadata": {
    "scrolled": true
   },
   "outputs": [
    {
     "data": {
      "image/png": "[encoded data removed]",
      "text/plain": [
       "<Figure size 1080x1080 with 25 Axes>"
      ]
     },
     "metadata": {
      "needs_background": "light"
     },
     "output_type": "display_data"
    }
   ],
   "source": [
    "# 이미지 확인\n",
    "\n",
    "import matplotlib.pyplot as plt\n",
    "\n",
    "plt.figure(figsize=(15,15))\n",
    "for i in range(25):\n",
    "    plt.subplot(5,5,i+1)\n",
    "    plt.imshow(X_train[i], cmap='gray')\n",
    "    plt.title(class_names[y_train[i]])\n",
    "\n",
    "plt.tight_layout()\n",
    "plt.show()"
   ]
  },
  {
   "cell_type": "code",
   "execution_count": 57,
   "metadata": {},
   "outputs": [],
   "source": [
    "# 하이퍼 파라미터 설정\n",
    "\n",
    "LEARNING_RATE = 0.001\n",
    "N_EPOCHS = 50\n",
    "N_BATCHS = 100\n",
    "\n",
    "N_CLASS = 10    # class category의 개수\n",
    "N_TRAIN = X_train.shape[0]\n",
    "N_TEST = X_test.shape[0]\n",
    "IMAGE_SIZE = 28"
   ]
  },
  {
   "cell_type": "code",
   "execution_count": 54,
   "metadata": {},
   "outputs": [],
   "source": [
    "# 데이터 전처리\n",
    "# X(이미지): 0~255 => 0~1\n",
    "\n",
    "X_train = X_train/255\n",
    "X_test = X_test/255\n",
    "\n",
    "# y(label) => 다중분류: OneHotEncoding\n",
    "y_train = keras.utils.to_categorical(y_train)\n",
    "y_test = keras.utils.to_categorical(y_test)"
   ]
  },
  {
   "cell_type": "code",
   "execution_count": 55,
   "metadata": {},
   "outputs": [
    {
     "data": {
      "text/plain": [
       "(1.0, 0.0)"
      ]
     },
     "execution_count": 55,
     "metadata": {},
     "output_type": "execute_result"
    }
   ],
   "source": [
    "np.max(X_train), np.min(X_train)"
   ]
  },
  {
   "cell_type": "code",
   "execution_count": 56,
   "metadata": {},
   "outputs": [
    {
     "data": {
      "text/plain": [
       "(10000, 10)"
      ]
     },
     "execution_count": 56,
     "metadata": {},
     "output_type": "execute_result"
    }
   ],
   "source": [
    "y_test.shape"
   ]
  },
  {
   "cell_type": "code",
   "execution_count": 58,
   "metadata": {},
   "outputs": [],
   "source": [
    "# Dataset\n",
    "\n",
    "train_dataset = tf.data.Dataset.from_tensor_slices((X_train, y_train))\\\n",
    "                               .shuffle(N_TRAIN)\\\n",
    "                               .batch(N_BATCHS, drop_remainder=True)\\\n",
    "                               .repeat()\n",
    "val_dataset = tf.data.Dataset.from_tensor_slices((X_test, y_test)).batch(N_BATCHS)"
   ]
  },
  {
   "cell_type": "code",
   "execution_count": 64,
   "metadata": {},
   "outputs": [],
   "source": [
    "# 모델 구현\n",
    "\n",
    "def create_model():\n",
    "    model = keras.Sequential()\n",
    "#   model.add(keras.layers.Input((28,28)))\n",
    "    model.add(keras.layers.Flatten(input_shape=(28,28)))\n",
    "    # 은닉층(Hidden layer)\n",
    "    model.add(keras.layers.Dense(256, activation='relu'))\n",
    "    model.add(keras.layers.Dense(128, activation='relu'))\n",
    "    model.add(keras.layers.Dense(64, activation='relu'))\n",
    "    # 출력층(Output layer)\n",
    "    # 다중분류 units: class category 개수, activation: softmax. (확률이 나오기 때문)\n",
    "    model.add(keras.layers.Dense(N_CLASS, activation='softmax'))\n",
    "    \n",
    "    # 컴파일\n",
    "    # 다중분류 loss: categorical_crossentropy (y를 onehotencoding을 한 경우)\n",
    "    #             sparse_categorical_entropy (y를 onehotencoding 안 한 경우) (자동으로 onehotencoding 해준다.)               \n",
    "    model.compile(optimazer=keras.optimizers.Adam(learning_rate=LEARNING_RATE),\n",
    "                  loss='categorical_crossentropy',\n",
    "                  metrics=['accuracy'])\n",
    "              \n",
    "    return model"
   ]
  },
  {
   "cell_type": "code",
   "execution_count": 66,
   "metadata": {},
   "outputs": [
    {
     "name": "stdout",
     "output_type": "stream",
     "text": [
      "Model: \"sequential_4\"\n",
      "_________________________________________________________________\n",
      "Layer (type)                 Output Shape              Param #   \n",
      "=================================================================\n",
      "flatten_3 (Flatten)          (None, 784)               0         \n",
      "_________________________________________________________________\n",
      "dense_13 (Dense)             (None, 256)               200960    \n",
      "_________________________________________________________________\n",
      "dense_14 (Dense)             (None, 128)               32896     \n",
      "_________________________________________________________________\n",
      "dense_15 (Dense)             (None, 64)                8256      \n",
      "_________________________________________________________________\n",
      "dense_16 (Dense)             (None, 10)                650       \n",
      "=================================================================\n",
      "Total params: 242,762\n",
      "Trainable params: 242,762\n",
      "Non-trainable params: 0\n",
      "_________________________________________________________________\n"
     ]
    }
   ],
   "source": [
    "model = create_model()\n",
    "model.summary()"
   ]
  },
  {
   "cell_type": "code",
   "execution_count": 68,
   "metadata": {},
   "outputs": [
    {
     "data": {
      "image/png": "[encoded data removed]",
      "text/plain": [
       "<IPython.core.display.Image object>"
      ]
     },
     "execution_count": 68,
     "metadata": {},
     "output_type": "execute_result"
    }
   ],
   "source": [
    "from tensorflow.keras.utils import plot_model\n",
    "plot_model(model, show_shapes=True)"
   ]
  },
  {
   "cell_type": "code",
   "execution_count": 70,
   "metadata": {},
   "outputs": [
    {
     "name": "stdout",
     "output_type": "stream",
     "text": [
      "600 100\n"
     ]
    }
   ],
   "source": [
    "# epoch당 step수 계산\n",
    "\n",
    "steps_per_epoch = N_TRAIN // N_BATCHS\n",
    "validation_steps = int(np.ceil(N_TEST/N_BATCHS))\n",
    "print(steps_per_epoch, validation_steps)"
   ]
  },
  {
   "cell_type": "code",
   "execution_count": 73,
   "metadata": {},
   "outputs": [
    {
     "name": "stdout",
     "output_type": "stream",
     "text": [
      "Train for 600 steps, validate for 100 steps\n",
      "Epoch 1/50\n",
      "600/600 [==============================] - 12s 19ms/step - loss: 0.5464 - accuracy: 0.8026 - val_loss: 0.4607 - val_accuracy: 0.8306\n",
      "Epoch 2/50\n",
      "600/600 [==============================] - 10s 16ms/step - loss: 0.3796 - accuracy: 0.8605 - val_loss: 0.4343 - val_accuracy: 0.8408\n",
      "Epoch 3/50\n",
      "600/600 [==============================] - 9s 16ms/step - loss: 0.3410 - accuracy: 0.8745 - val_loss: 0.3534 - val_accuracy: 0.8768\n",
      "Epoch 4/50\n",
      "600/600 [==============================] - 9s 16ms/step - loss: 0.3160 - accuracy: 0.8835 - val_loss: 0.3989 - val_accuracy: 0.8620\n",
      "Epoch 5/50\n",
      "600/600 [==============================] - 9s 16ms/step - loss: 0.2996 - accuracy: 0.8896 - val_loss: 0.3688 - val_accuracy: 0.8737\n",
      "Epoch 6/50\n",
      "600/600 [==============================] - 9s 16ms/step - loss: 0.2832 - accuracy: 0.8946 - val_loss: 0.3649 - val_accuracy: 0.8752\n",
      "Epoch 7/50\n",
      "600/600 [==============================] - 9s 16ms/step - loss: 0.2735 - accuracy: 0.8996 - val_loss: 0.3446 - val_accuracy: 0.8786\n",
      "Epoch 8/50\n",
      "600/600 [==============================] - 9s 16ms/step - loss: 0.2628 - accuracy: 0.9033 - val_loss: 0.3406 - val_accuracy: 0.8817\n",
      "Epoch 9/50\n",
      "600/600 [==============================] - 9s 16ms/step - loss: 0.2545 - accuracy: 0.9054 - val_loss: 0.3926 - val_accuracy: 0.8757\n",
      "Epoch 10/50\n",
      "600/600 [==============================] - 9s 16ms/step - loss: 0.2474 - accuracy: 0.9095 - val_loss: 0.3814 - val_accuracy: 0.8770\n",
      "Epoch 11/50\n",
      "600/600 [==============================] - 9s 16ms/step - loss: 0.2423 - accuracy: 0.9100 - val_loss: 0.3539 - val_accuracy: 0.8820\n",
      "Epoch 12/50\n",
      "600/600 [==============================] - 9s 16ms/step - loss: 0.2369 - accuracy: 0.9125 - val_loss: 0.4063 - val_accuracy: 0.8773\n",
      "Epoch 13/50\n",
      "600/600 [==============================] - 9s 16ms/step - loss: 0.2314 - accuracy: 0.9140 - val_loss: 0.4233 - val_accuracy: 0.8741\n",
      "Epoch 14/50\n",
      "600/600 [==============================] - 9s 16ms/step - loss: 0.2264 - accuracy: 0.9162 - val_loss: 0.4084 - val_accuracy: 0.8878\n",
      "Epoch 15/50\n",
      "600/600 [==============================] - 9s 16ms/step - loss: 0.2240 - accuracy: 0.9165 - val_loss: 0.4063 - val_accuracy: 0.8844\n",
      "Epoch 16/50\n",
      "600/600 [==============================] - 9s 16ms/step - loss: 0.2212 - accuracy: 0.9183 - val_loss: 0.4152 - val_accuracy: 0.8849\n",
      "Epoch 17/50\n",
      "600/600 [==============================] - 10s 16ms/step - loss: 0.2178 - accuracy: 0.9208 - val_loss: 0.4228 - val_accuracy: 0.8906\n",
      "Epoch 18/50\n",
      "600/600 [==============================] - 10s 16ms/step - loss: 0.2156 - accuracy: 0.9207 - val_loss: 0.4684 - val_accuracy: 0.8854\n",
      "Epoch 19/50\n",
      "600/600 [==============================] - 12s 21ms/step - loss: 0.2134 - accuracy: 0.9221 - val_loss: 0.4249 - val_accuracy: 0.8841\n",
      "Epoch 20/50\n",
      "600/600 [==============================] - 10s 17ms/step - loss: 0.2100 - accuracy: 0.9226 - val_loss: 0.4958 - val_accuracy: 0.8742\n",
      "Epoch 21/50\n",
      "600/600 [==============================] - 9s 16ms/step - loss: 0.2092 - accuracy: 0.9244 - val_loss: 0.4522 - val_accuracy: 0.8883\n",
      "Epoch 22/50\n",
      "600/600 [==============================] - 10s 16ms/step - loss: 0.2093 - accuracy: 0.9252 - val_loss: 0.5057 - val_accuracy: 0.8830\n",
      "Epoch 23/50\n",
      "600/600 [==============================] - 10s 16ms/step - loss: 0.2067 - accuracy: 0.9258 - val_loss: 0.5968 - val_accuracy: 0.8816\n",
      "Epoch 24/50\n",
      "600/600 [==============================] - 10s 16ms/step - loss: 0.2049 - accuracy: 0.9275 - val_loss: 0.4676 - val_accuracy: 0.8813\n",
      "Epoch 25/50\n",
      "600/600 [==============================] - 10s 16ms/step - loss: 0.2033 - accuracy: 0.9273 - val_loss: 0.5438 - val_accuracy: 0.8865\n",
      "Epoch 26/50\n",
      "600/600 [==============================] - 10s 16ms/step - loss: 0.2028 - accuracy: 0.9286 - val_loss: 0.6083 - val_accuracy: 0.8831\n",
      "Epoch 27/50\n",
      "600/600 [==============================] - 10s 16ms/step - loss: 0.1955 - accuracy: 0.9303 - val_loss: 0.6240 - val_accuracy: 0.8887\n",
      "Epoch 28/50\n",
      "600/600 [==============================] - 10s 16ms/step - loss: 0.1954 - accuracy: 0.9305 - val_loss: 0.5984 - val_accuracy: 0.8846\n",
      "Epoch 29/50\n",
      "600/600 [==============================] - 10s 16ms/step - loss: 0.1970 - accuracy: 0.9304 - val_loss: 0.5368 - val_accuracy: 0.8866\n",
      "Epoch 30/50\n",
      "600/600 [==============================] - 9s 16ms/step - loss: 0.2035 - accuracy: 0.9314 - val_loss: 0.6092 - val_accuracy: 0.8794\n",
      "Epoch 31/50\n",
      "600/600 [==============================] - 9s 16ms/step - loss: 0.1949 - accuracy: 0.9325 - val_loss: 0.7012 - val_accuracy: 0.8815\n",
      "Epoch 32/50\n",
      "600/600 [==============================] - 10s 16ms/step - loss: 0.1942 - accuracy: 0.9329 - val_loss: 0.6733 - val_accuracy: 0.8760\n",
      "Epoch 33/50\n",
      "600/600 [==============================] - 10s 16ms/step - loss: 0.1875 - accuracy: 0.9327 - val_loss: 0.6314 - val_accuracy: 0.8817\n",
      "Epoch 34/50\n",
      "600/600 [==============================] - 10s 16ms/step - loss: 0.1881 - accuracy: 0.9350 - val_loss: 0.7507 - val_accuracy: 0.8818\n",
      "Epoch 35/50\n",
      "600/600 [==============================] - 10s 16ms/step - loss: 0.1846 - accuracy: 0.9359 - val_loss: 0.7089 - val_accuracy: 0.8847\n",
      "Epoch 36/50\n",
      "600/600 [==============================] - 10s 16ms/step - loss: 0.1883 - accuracy: 0.9340 - val_loss: 0.7233 - val_accuracy: 0.8802\n",
      "Epoch 37/50\n",
      "600/600 [==============================] - 10s 16ms/step - loss: 0.1857 - accuracy: 0.9349 - val_loss: 0.7291 - val_accuracy: 0.8888\n",
      "Epoch 38/50\n",
      "600/600 [==============================] - 10s 16ms/step - loss: 0.1848 - accuracy: 0.9367 - val_loss: 0.7193 - val_accuracy: 0.8811\n",
      "Epoch 39/50\n",
      "600/600 [==============================] - 10s 16ms/step - loss: 0.1806 - accuracy: 0.9373 - val_loss: 0.7626 - val_accuracy: 0.8803\n",
      "Epoch 40/50\n",
      "600/600 [==============================] - 10s 16ms/step - loss: 0.1824 - accuracy: 0.9369 - val_loss: 0.9178 - val_accuracy: 0.8834\n",
      "Epoch 41/50\n",
      "600/600 [==============================] - 10s 16ms/step - loss: 0.1810 - accuracy: 0.9378 - val_loss: 0.8288 - val_accuracy: 0.8853\n",
      "Epoch 42/50\n",
      "600/600 [==============================] - 10s 17ms/step - loss: 0.1793 - accuracy: 0.9391 - val_loss: 0.7226 - val_accuracy: 0.8872\n",
      "Epoch 43/50\n",
      "600/600 [==============================] - 10s 17ms/step - loss: 0.1709 - accuracy: 0.9394 - val_loss: 0.8644 - val_accuracy: 0.8881\n",
      "Epoch 44/50\n",
      "600/600 [==============================] - 10s 16ms/step - loss: 0.1849 - accuracy: 0.9377 - val_loss: 0.8570 - val_accuracy: 0.8853\n",
      "Epoch 45/50\n",
      "600/600 [==============================] - 10s 16ms/step - loss: 0.1794 - accuracy: 0.9404 - val_loss: 0.7295 - val_accuracy: 0.8865\n",
      "Epoch 46/50\n",
      "600/600 [==============================] - 10s 16ms/step - loss: 0.1718 - accuracy: 0.9413 - val_loss: 0.8049 - val_accuracy: 0.8901\n",
      "Epoch 47/50\n",
      "600/600 [==============================] - 10s 16ms/step - loss: 0.1771 - accuracy: 0.9419 - val_loss: 0.7536 - val_accuracy: 0.8874\n",
      "Epoch 48/50\n",
      "600/600 [==============================] - 10s 16ms/step - loss: 0.1755 - accuracy: 0.9408 - val_loss: 1.0248 - val_accuracy: 0.8829\n",
      "Epoch 49/50\n",
      "600/600 [==============================] - 10s 16ms/step - loss: 0.1725 - accuracy: 0.9438 - val_loss: 1.1247 - val_accuracy: 0.8827\n",
      "Epoch 50/50\n",
      "600/600 [==============================] - 10s 16ms/step - loss: 0.1736 - accuracy: 0.9435 - val_loss: 0.9488 - val_accuracy: 0.8723\n"
     ]
    }
   ],
   "source": [
    "# 학습\n",
    "\n",
    "history = model.fit(train_dataset,\n",
    "                    epochs=N_EPOCHS,\n",
    "                    steps_per_epoch=steps_per_epoch,\n",
    "                    validation_data=val_dataset,\n",
    "                    validation_steps=validation_steps)"
   ]
  },
  {
   "cell_type": "code",
   "execution_count": 74,
   "metadata": {},
   "outputs": [
    {
     "name": "stdout",
     "output_type": "stream",
     "text": [
      "100/100 [==============================] - 1s 8ms/step - loss: 0.9488 - accuracy: 0.8723\n"
     ]
    },
    {
     "data": {
      "text/plain": [
       "[0.9488021168112755, 0.8723]"
      ]
     },
     "execution_count": 74,
     "metadata": {},
     "output_type": "execute_result"
    }
   ],
   "source": [
    "# 평가\n",
    "model.evaluate(val_dataset)"
   ]
  },
  {
   "cell_type": "code",
   "execution_count": 76,
   "metadata": {},
   "outputs": [
    {
     "data": {
      "text/plain": [
       "dict_keys(['loss', 'accuracy', 'val_loss', 'val_accuracy'])"
      ]
     },
     "execution_count": 76,
     "metadata": {},
     "output_type": "execute_result"
    }
   ],
   "source": [
    "# 결과 시각화 (Loss와 지정한 평가지표의 epoch당 변화를 시각화) => 선 그래프\n",
    "history.history.keys()"
   ]
  },
  {
   "cell_type": "code",
   "execution_count": 81,
   "metadata": {},
   "outputs": [
    {
     "data": {
      "image/png": "[encoded data removed]",
      "text/plain": [
       "<Figure size 1080x720 with 2 Axes>"
      ]
     },
     "metadata": {
      "needs_background": "light"
     },
     "output_type": "display_data"
    }
   ],
   "source": [
    "plt.figure(figsize=(15,10))\n",
    "plt.subplot(1,2,1)\n",
    "plt.plot(range(1,N_EPOCHS+1), history.history['loss'], label='Train loss')\n",
    "plt.plot(range(1,N_EPOCHS+1), history.history['val_loss'], label='Val loss')\n",
    "plt.title('LOSS')\n",
    "plt.legend()\n",
    "\n",
    "plt.subplot(1,2,2)\n",
    "plt.plot(range(1,N_EPOCHS+1), history.history['accuracy'], label='Train accuracy')\n",
    "plt.plot(range(1,N_EPOCHS+1), history.history['val_accuracy'], label='Val accuracy')\n",
    "plt.title('ACCURACY')\n",
    "plt.legend()\n",
    "\n",
    "plt.tight_layout()\n",
    "plt.show()"
   ]
  },
  {
   "cell_type": "markdown",
   "metadata": {},
   "source": [
    "## 이진분류(Binary Classification)\n",
    "### IMDB 감성분석\n",
    "- 영화 댓글: 부정(0) / 긍정(1)"
   ]
  },
  {
   "cell_type": "code",
   "execution_count": 2,
   "metadata": {},
   "outputs": [],
   "source": [
    "import pickle"
   ]
  },
  {
   "cell_type": "code",
   "execution_count": 4,
   "metadata": {},
   "outputs": [],
   "source": [
    "# Data load\n",
    "\n",
    "with open('imdb_dataset/x_train.pkl', 'rb') as f:\n",
    "    X_train = pickle.load(f)\n",
    "with open('imdb_dataset/x_test.pkl', 'rb') as f:\n",
    "    X_test = pickle.load(f)\n",
    "with open('imdb_dataset/y_train.pkl', 'rb') as f:\n",
    "    y_train = pickle.load(f)\n",
    "with open('imdb_dataset/y_test.pkl', 'rb') as f:\n",
    "    y_test = pickle.load(f)"
   ]
  },
  {
   "cell_type": "code",
   "execution_count": 7,
   "metadata": {},
   "outputs": [
    {
     "data": {
      "text/plain": [
       "('day lead think even think boy young men commit mutual suicide slaughter classmate capture bizarre mode human decide withdraw common civility order define mutual world couple destruction perfect movie give money time filmmaker actor remarkable product term explain motif action young suicide murderer well elephant term film get rationalistic skin far far well film almost anything likely see flaw honest terrible honesty',\n",
       " 1)"
      ]
     },
     "execution_count": 7,
     "metadata": {},
     "output_type": "execute_result"
    }
   ],
   "source": [
    "X_train[0], y_train[0]"
   ]
  },
  {
   "cell_type": "code",
   "execution_count": 36,
   "metadata": {},
   "outputs": [],
   "source": [
    "# X 벡터화 (숫자로 변경)\n",
    "\n",
    "from sklearn.feature_extraction.text import TfidfVectorizer\n",
    "\n",
    "tfidf = TfidfVectorizer(max_features=10000)\n",
    "tfidf.fit(X_train+X_test)\n",
    "X_train_tfidf = tfidf.transform(X_train)\n",
    "X_test_tfidf = tfidf.transform(X_test)"
   ]
  },
  {
   "cell_type": "code",
   "execution_count": 37,
   "metadata": {},
   "outputs": [],
   "source": [
    "# 하이퍼 파라미터 설정\n",
    "\n",
    "LEARNING_RATE = 0.001\n",
    "N_EPOCHS = 10\n",
    "N_BATCHS = 100\n",
    "\n",
    "N_TRAIN = X_train_tfidf.shape[0]\n",
    "N_TEST = X_test_tfidf.shape[0]\n",
    "N_FEATURE = X_train_tfidf.shape[1]"
   ]
  },
  {
   "cell_type": "code",
   "execution_count": 38,
   "metadata": {},
   "outputs": [],
   "source": [
    "# Dataset 생성\n",
    "# 이진분류는 onehotencoding X\n",
    "# Sparse Matrix => ndarray\n",
    "\n",
    "train_dataset = tf.data.Dataset.from_tensor_slices((X_train_tfidf.toarray(), y_train))\\\n",
    "                               .shuffle(N_TRAIN)\\\n",
    "                               .batch(N_BATCHS, drop_remainder=True)\\\n",
    "                               .repeat()\n",
    "val_dataset = tf.data.Dataset.from_tensor_slices((X_test_tfidf.toarray(), y_test)).batch(N_BATCHS)"
   ]
  },
  {
   "cell_type": "code",
   "execution_count": 39,
   "metadata": {},
   "outputs": [],
   "source": [
    "def create_model():\n",
    "    model = keras.Sequential()\n",
    "    # Input layer\n",
    "    model.add(keras.layers.Input((N_FEATURE,)))\n",
    "    # Hidden layer\n",
    "    model.add(keras.layers.Dense(512, activation='relu'))\n",
    "    model.add(keras.layers.Dense(256, activation='relu'))\n",
    "    model.add(keras.layers.Dense(256, activation='relu'))\n",
    "    model.add(keras.layers.Dense(128, activation='relu'))\n",
    "    # Output layer\n",
    "    # 이진분류: units=1, activation='sigmoid' (logstic 함수)\n",
    "    model.add(keras.layers.Dense(1, activation='sigmoid'))\n",
    "    \n",
    "    # Compile\n",
    "    # 이진분류: loss=binary_crossentropy\n",
    "    model.compile(optimazer=keras.optimizers.Adam(learning_rate=LEARNING_RATE),\n",
    "                  loss='binary_crossentropy',\n",
    "                  metrics=['accuracy'])\n",
    "    \n",
    "    return model"
   ]
  },
  {
   "cell_type": "code",
   "execution_count": 40,
   "metadata": {},
   "outputs": [
    {
     "name": "stdout",
     "output_type": "stream",
     "text": [
      "Model: \"sequential_4\"\n",
      "_________________________________________________________________\n",
      "Layer (type)                 Output Shape              Param #   \n",
      "=================================================================\n",
      "dense_15 (Dense)             (None, 512)               5120512   \n",
      "_________________________________________________________________\n",
      "dense_16 (Dense)             (None, 256)               131328    \n",
      "_________________________________________________________________\n",
      "dense_17 (Dense)             (None, 256)               65792     \n",
      "_________________________________________________________________\n",
      "dense_18 (Dense)             (None, 128)               32896     \n",
      "_________________________________________________________________\n",
      "dense_19 (Dense)             (None, 1)                 129       \n",
      "=================================================================\n",
      "Total params: 5,350,657\n",
      "Trainable params: 5,350,657\n",
      "Non-trainable params: 0\n",
      "_________________________________________________________________\n"
     ]
    }
   ],
   "source": [
    "model = create_model()\n",
    "model.summary()"
   ]
  },
  {
   "cell_type": "code",
   "execution_count": 41,
   "metadata": {},
   "outputs": [
    {
     "data": {
      "text/plain": [
       "(250, 250)"
      ]
     },
     "execution_count": 41,
     "metadata": {},
     "output_type": "execute_result"
    }
   ],
   "source": [
    "# 학습\n",
    "\n",
    "steps_per_epoch = N_TRAIN // N_BATCHS\n",
    "validation_steps = int(np.ceil(N_TEST/N_BATCHS))\n",
    "steps_per_epoch, validation_steps"
   ]
  },
  {
   "cell_type": "code",
   "execution_count": 42,
   "metadata": {},
   "outputs": [
    {
     "name": "stdout",
     "output_type": "stream",
     "text": [
      "Train for 250 steps, validate for 250 steps\n",
      "Epoch 1/10\n",
      "250/250 [==============================] - 41s 165ms/step - loss: 0.3317 - accuracy: 0.8531 - val_loss: 0.3127 - val_accuracy: 0.8688\n",
      "Epoch 2/10\n",
      "250/250 [==============================] - 38s 153ms/step - loss: 0.1865 - accuracy: 0.9276 - val_loss: 0.3543 - val_accuracy: 0.8546\n",
      "Epoch 3/10\n",
      "250/250 [==============================] - 39s 157ms/step - loss: 0.1112 - accuracy: 0.9612 - val_loss: 0.4562 - val_accuracy: 0.8449\n",
      "Epoch 4/10\n",
      "250/250 [==============================] - 42s 169ms/step - loss: 0.0524 - accuracy: 0.9841 - val_loss: 0.6555 - val_accuracy: 0.8399\n",
      "Epoch 5/10\n",
      "250/250 [==============================] - 38s 151ms/step - loss: 0.0230 - accuracy: 0.9934 - val_loss: 0.9296 - val_accuracy: 0.8218\n",
      "Epoch 6/10\n",
      "250/250 [==============================] - 38s 152ms/step - loss: 0.0109 - accuracy: 0.9973 - val_loss: 1.0551 - val_accuracy: 0.8392\n",
      "Epoch 7/10\n",
      "250/250 [==============================] - 38s 153ms/step - loss: 0.0036 - accuracy: 0.9992 - val_loss: 2.4466 - val_accuracy: 0.8360\n",
      "Epoch 8/10\n",
      "250/250 [==============================] - 39s 154ms/step - loss: 1.7345e-04 - accuracy: 0.9999 - val_loss: 4.5781 - val_accuracy: 0.8389\n",
      "Epoch 9/10\n",
      "250/250 [==============================] - 38s 153ms/step - loss: 5.1131e-04 - accuracy: 0.9999 - val_loss: 4.6625 - val_accuracy: 0.8384\n",
      "Epoch 10/10\n",
      "250/250 [==============================] - 38s 153ms/step - loss: 2.7782e-09 - accuracy: 1.0000 - val_loss: 5.0808 - val_accuracy: 0.8383\n"
     ]
    }
   ],
   "source": [
    "history = model.fit(train_dataset,\n",
    "                    epochs=N_EPOCHS,\n",
    "                    steps_per_epoch=steps_per_epoch,\n",
    "                    validation_data=val_dataset,\n",
    "                    validation_steps=validation_steps)"
   ]
  },
  {
   "cell_type": "code",
   "execution_count": 43,
   "metadata": {},
   "outputs": [
    {
     "name": "stdout",
     "output_type": "stream",
     "text": [
      "250/250 [==============================] - 7s 28ms/step - loss: 5.0808 - accuracy: 0.8383\n"
     ]
    },
    {
     "data": {
      "text/plain": [
       "[5.080809133052826, 0.83832]"
      ]
     },
     "execution_count": 43,
     "metadata": {},
     "output_type": "execute_result"
    }
   ],
   "source": [
    "# 평가\n",
    "model.evaluate(val_dataset)    # 과대적합 발생"
   ]
  },
  {
   "cell_type": "code",
   "execution_count": 45,
   "metadata": {},
   "outputs": [],
   "source": [
    "import matplotlib.pyplot as plt"
   ]
  },
  {
   "cell_type": "code",
   "execution_count": 47,
   "metadata": {},
   "outputs": [
    {
     "data": {
      "image/png": "[encoded data removed]",
      "text/plain": [
       "<Figure size 720x504 with 2 Axes>"
      ]
     },
     "metadata": {
      "needs_background": "light"
     },
     "output_type": "display_data"
    }
   ],
   "source": [
    "plt.figure(figsize=(10,7))\n",
    "plt.subplot(1,2,1)\n",
    "plt.plot(range(1,N_EPOCHS+1), history.history['loss'], label='Train loss')\n",
    "plt.plot(range(1,N_EPOCHS+1), history.history['val_loss'], label='Val loss')\n",
    "plt.title('LOSS')\n",
    "plt.legend()\n",
    "\n",
    "plt.subplot(1,2,2)\n",
    "plt.plot(range(1,N_EPOCHS+1), history.history['accuracy'], label='Train accuracy')\n",
    "plt.plot(range(1,N_EPOCHS+1), history.history['val_accuracy'], label='Val accuracy')\n",
    "plt.title('ACCURACY')\n",
    "plt.legend()\n",
    "\n",
    "plt.tight_layout()\n",
    "plt.show()"
   ]
  }
 ],
 "metadata": {
  "kernelspec": {
   "display_name": "Python 3",
   "language": "python",
   "name": "python3"
  },
  "language_info": {
   "codemirror_mode": {
    "name": "ipython",
    "version": 3
   },
   "file_extension": ".py",
   "mimetype": "text/x-python",
   "name": "python",
   "nbconvert_exporter": "python",
   "pygments_lexer": "ipython3",
   "version": "3.7.10"
  },
  "toc": {
   "base_numbering": 1,
   "nav_menu": {},
   "number_sections": false,
   "sideBar": true,
   "skip_h1_title": false,
   "title_cell": "Table of Contents",
   "title_sidebar": "Contents",
   "toc_cell": false,
   "toc_position": {},
   "toc_section_display": true,
   "toc_window_display": false
  },
  "varInspector": {
   "cols": {
    "lenName": 16,
    "lenType": 16,
    "lenVar": 40
   },
   "kernels_config": {
    "python": {
     "delete_cmd_postfix": "",
     "delete_cmd_prefix": "del ",
     "library": "var_list.py",
     "varRefreshCmd": "print(var_dic_list())"
    },
    "r": {
     "delete_cmd_postfix": ") ",
     "delete_cmd_prefix": "rm(",
     "library": "var_list.r",
     "varRefreshCmd": "cat(var_dic_list()) "
    }
   },
   "types_to_exclude": [
    "module",
    "function",
    "builtin_function_or_method",
    "instance",
    "_Feature"
   ],
   "window_display": false
  }
 },
 "nbformat": 4,
 "nbformat_minor": 2
}

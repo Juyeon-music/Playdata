{
 "cells": [
  {
   "cell_type": "markdown",
   "metadata": {},
   "source": [
    "# 데이터셋 API\n",
    "- 데이터 입력 파이프라인을 위한 패키지\n",
    "- tf.data 패키지에서 제공\n",
    "- tf.data.Dataset 추상클래스에서 상속된 여러가지 클래스 객체를 사용 또는 만들어 쓴다.\n",
    "\n",
    "## 데이터 입력 파이프라인이란\n",
    "**모델에 공급**되는 데이터에 대한 전처리 작업과 공급을 담당한다.    \n",
    "- 이미지 데이터의 경우\n",
    "    - 분산 파일시스템으로 부터 이미지를 모으는 작업, \n",
    "    - 이미지에 노이즈를 주거나 변형하는 작업, \n",
    "    - 배치 학습을 위해 무작위로 데이터를 선택하여 배치데이터를 만드는 작업\n",
    "- 텍스트 데이터 경우\n",
    "    - 원문을 토큰화하는 작업\n",
    "    - 임베딩하는 작업\n",
    "    - 길이가 다른 데이터를 패딩하여 합치는 작업 \n",
    "\n",
    "\n",
    "## 데이터셋 API 사용 세단계\n",
    "1. 데이터셋 생성\n",
    "    - from_tensor_slices(), from_generator() 클래스 메소드, tf.data.TFRecordDataset 클래스를 사용해 메모리나 파일에 있는 데이터를 데이터소스로 만든다.\n",
    "    - from_tensor_slices(): 리스트 넘파이배열, 텐서플로 자료형에서 데이터를 생성한다.\n",
    "2. 데이터셋 변형: map(), filter(), batch() 등 메소드를 이용해 데이터 소스를 변형한다.\n",
    "3. for 반복문에서 iterate를 통해 데이터셋 사용\n",
    "\n",
    "## Dataset의 주요 메소드\n",
    "- map(함수) : dataset의 각 원소들을 함수로 처리한다.\n",
    "- shuffle(크기): dataset의 원소들의 순서를 섞는다. 크기는 섞는 공간의 크기로  **데이터보다 크거나 같으면** 완전셔플, **적으면 일부만 가져와서 섞어** 완전셔플이 안된다.=>데이터가 너무너무 많으면 적게 주기도 한다.)\n",
    "- batch(size) : 반복시 제공할 데이터 수. 지정한 batch size만큼 data를 꺼내준다."
   ]
  },
  {
   "cell_type": "code",
   "execution_count": 1,
   "metadata": {},
   "outputs": [],
   "source": [
    "import tensorflow as tf\n",
    "import numpy as np"
   ]
  },
  {
   "cell_type": "code",
   "execution_count": 39,
   "metadata": {},
   "outputs": [],
   "source": [
    "arr = np.arange(9)  #0 ~ 8: 9"
   ]
  },
  {
   "cell_type": "code",
   "execution_count": 40,
   "metadata": {},
   "outputs": [
    {
     "data": {
      "text/plain": [
       "tensorflow.python.data.ops.dataset_ops.TensorSliceDataset"
      ]
     },
     "execution_count": 40,
     "metadata": {},
     "output_type": "execute_result"
    }
   ],
   "source": [
    "# 메모리에 ndarray로 저장된 데이터를 이용해 Dataset 객체를 생성\n",
    "dataset = tf.data.Dataset.from_tensor_slices(arr)\n",
    "type(dataset)"
   ]
  },
  {
   "cell_type": "code",
   "execution_count": 41,
   "metadata": {},
   "outputs": [
    {
     "data": {
      "text/plain": [
       "tensorflow.python.data.ops.dataset_ops.MapDataset"
      ]
     },
     "execution_count": 41,
     "metadata": {},
     "output_type": "execute_result"
    }
   ],
   "source": [
    "# 각각 원소를 변환 작업을 Dataset 추가. - Dataset.map(변환함수)\\\n",
    "dataset = dataset.map(lambda x:x**2)\n",
    "type(dataset)"
   ]
  },
  {
   "cell_type": "code",
   "execution_count": 42,
   "metadata": {},
   "outputs": [],
   "source": [
    "# dataset = dataset.filter(lambda x : x%2 == 0) #2에 배수만 걸러내기\n",
    "# def func(x):\n",
    "#     return x%2 == 0"
   ]
  },
  {
   "cell_type": "code",
   "execution_count": 43,
   "metadata": {},
   "outputs": [],
   "source": [
    "dataset = dataset.shuffle(9) #값들을 섞는 작업"
   ]
  },
  {
   "cell_type": "code",
   "execution_count": 44,
   "metadata": {},
   "outputs": [],
   "source": [
    "dataset = dataset.batch(4) #한번에 지정한 개수(3)만큼 제공"
   ]
  },
  {
   "cell_type": "code",
   "execution_count": 45,
   "metadata": {
    "collapsed": true
   },
   "outputs": [
    {
     "name": "stdout",
     "output_type": "stream",
     "text": [
      "tf.Tensor([ 1 16 36 25], shape=(4,), dtype=int32)\n",
      "tf.Tensor([ 0  4 64 49], shape=(4,), dtype=int32)\n",
      "tf.Tensor([9], shape=(1,), dtype=int32)\n"
     ]
    }
   ],
   "source": [
    "for a in dataset:\n",
    "    print(a)"
   ]
  },
  {
   "cell_type": "code",
   "execution_count": 29,
   "metadata": {
    "collapsed": true
   },
   "outputs": [
    {
     "name": "stdout",
     "output_type": "stream",
     "text": [
      "tf.Tensor(64, shape=(), dtype=int32)\n",
      "tf.Tensor(4, shape=(), dtype=int32)\n",
      "tf.Tensor(9, shape=(), dtype=int32)\n",
      "tf.Tensor(1, shape=(), dtype=int32)\n",
      "tf.Tensor(0, shape=(), dtype=int32)\n",
      "tf.Tensor(16, shape=(), dtype=int32)\n",
      "tf.Tensor(49, shape=(), dtype=int32)\n",
      "tf.Tensor(25, shape=(), dtype=int32)\n",
      "tf.Tensor(36, shape=(), dtype=int32)\n"
     ]
    }
   ],
   "source": [
    "# Dataset에서 제공되는 값들을 조회\n",
    "for a in dataset:\n",
    "    print(a)"
   ]
  },
  {
   "cell_type": "code",
   "execution_count": 46,
   "metadata": {},
   "outputs": [
    {
     "data": {
      "text/plain": [
       "((10,), (10,))"
      ]
     },
     "execution_count": 46,
     "metadata": {},
     "output_type": "execute_result"
    }
   ],
   "source": [
    "x = np.arange(10)\n",
    "y = np.arange(10, 20)\n",
    "x.shape, y.shape"
   ]
  },
  {
   "cell_type": "code",
   "execution_count": 48,
   "metadata": {},
   "outputs": [],
   "source": [
    "ds = tf.data.Dataset.from_tensor_slices((x, y))"
   ]
  },
  {
   "cell_type": "code",
   "execution_count": 50,
   "metadata": {
    "collapsed": true
   },
   "outputs": [
    {
     "name": "stdout",
     "output_type": "stream",
     "text": [
      "(<tf.Tensor: shape=(), dtype=int32, numpy=0>, <tf.Tensor: shape=(), dtype=int32, numpy=10>)\n",
      "(<tf.Tensor: shape=(), dtype=int32, numpy=1>, <tf.Tensor: shape=(), dtype=int32, numpy=11>)\n",
      "(<tf.Tensor: shape=(), dtype=int32, numpy=2>, <tf.Tensor: shape=(), dtype=int32, numpy=12>)\n",
      "(<tf.Tensor: shape=(), dtype=int32, numpy=3>, <tf.Tensor: shape=(), dtype=int32, numpy=13>)\n",
      "(<tf.Tensor: shape=(), dtype=int32, numpy=4>, <tf.Tensor: shape=(), dtype=int32, numpy=14>)\n",
      "(<tf.Tensor: shape=(), dtype=int32, numpy=5>, <tf.Tensor: shape=(), dtype=int32, numpy=15>)\n",
      "(<tf.Tensor: shape=(), dtype=int32, numpy=6>, <tf.Tensor: shape=(), dtype=int32, numpy=16>)\n",
      "(<tf.Tensor: shape=(), dtype=int32, numpy=7>, <tf.Tensor: shape=(), dtype=int32, numpy=17>)\n",
      "(<tf.Tensor: shape=(), dtype=int32, numpy=8>, <tf.Tensor: shape=(), dtype=int32, numpy=18>)\n",
      "(<tf.Tensor: shape=(), dtype=int32, numpy=9>, <tf.Tensor: shape=(), dtype=int32, numpy=19>)\n"
     ]
    }
   ],
   "source": [
    "for a in ds:\n",
    "    print(a)"
   ]
  },
  {
   "cell_type": "code",
   "execution_count": 55,
   "metadata": {},
   "outputs": [],
   "source": [
    "ds2 = ds.map(lambda x, y : (x**2, y**3))   #x:2제곱, y: 3제곱\n",
    "# def map_func(x, y): #dataset에 두개의 배열을 넣었을 경우 변수 두개로 각각 받는다. \n",
    "#     return (x**2, y**3)"
   ]
  },
  {
   "cell_type": "code",
   "execution_count": 56,
   "metadata": {
    "collapsed": true
   },
   "outputs": [
    {
     "name": "stdout",
     "output_type": "stream",
     "text": [
      "(<tf.Tensor: shape=(), dtype=int32, numpy=0>, <tf.Tensor: shape=(), dtype=int32, numpy=10>)\n",
      "(<tf.Tensor: shape=(), dtype=int32, numpy=1>, <tf.Tensor: shape=(), dtype=int32, numpy=11>)\n",
      "(<tf.Tensor: shape=(), dtype=int32, numpy=4>, <tf.Tensor: shape=(), dtype=int32, numpy=12>)\n",
      "(<tf.Tensor: shape=(), dtype=int32, numpy=9>, <tf.Tensor: shape=(), dtype=int32, numpy=13>)\n",
      "(<tf.Tensor: shape=(), dtype=int32, numpy=16>, <tf.Tensor: shape=(), dtype=int32, numpy=14>)\n",
      "(<tf.Tensor: shape=(), dtype=int32, numpy=25>, <tf.Tensor: shape=(), dtype=int32, numpy=15>)\n",
      "(<tf.Tensor: shape=(), dtype=int32, numpy=36>, <tf.Tensor: shape=(), dtype=int32, numpy=16>)\n",
      "(<tf.Tensor: shape=(), dtype=int32, numpy=49>, <tf.Tensor: shape=(), dtype=int32, numpy=17>)\n",
      "(<tf.Tensor: shape=(), dtype=int32, numpy=64>, <tf.Tensor: shape=(), dtype=int32, numpy=18>)\n",
      "(<tf.Tensor: shape=(), dtype=int32, numpy=81>, <tf.Tensor: shape=(), dtype=int32, numpy=19>)\n"
     ]
    }
   ],
   "source": [
    "for a in ds2:\n",
    "    print(a)"
   ]
  },
  {
   "cell_type": "code",
   "execution_count": 59,
   "metadata": {},
   "outputs": [],
   "source": [
    "ds3 = ds2.shuffle(10)"
   ]
  },
  {
   "cell_type": "code",
   "execution_count": 60,
   "metadata": {
    "collapsed": true
   },
   "outputs": [
    {
     "name": "stdout",
     "output_type": "stream",
     "text": [
      "(<tf.Tensor: shape=(), dtype=int32, numpy=36>, <tf.Tensor: shape=(), dtype=int32, numpy=16>)\n",
      "(<tf.Tensor: shape=(), dtype=int32, numpy=4>, <tf.Tensor: shape=(), dtype=int32, numpy=12>)\n",
      "(<tf.Tensor: shape=(), dtype=int32, numpy=81>, <tf.Tensor: shape=(), dtype=int32, numpy=19>)\n",
      "(<tf.Tensor: shape=(), dtype=int32, numpy=49>, <tf.Tensor: shape=(), dtype=int32, numpy=17>)\n",
      "(<tf.Tensor: shape=(), dtype=int32, numpy=25>, <tf.Tensor: shape=(), dtype=int32, numpy=15>)\n",
      "(<tf.Tensor: shape=(), dtype=int32, numpy=9>, <tf.Tensor: shape=(), dtype=int32, numpy=13>)\n",
      "(<tf.Tensor: shape=(), dtype=int32, numpy=16>, <tf.Tensor: shape=(), dtype=int32, numpy=14>)\n",
      "(<tf.Tensor: shape=(), dtype=int32, numpy=64>, <tf.Tensor: shape=(), dtype=int32, numpy=18>)\n",
      "(<tf.Tensor: shape=(), dtype=int32, numpy=1>, <tf.Tensor: shape=(), dtype=int32, numpy=11>)\n",
      "(<tf.Tensor: shape=(), dtype=int32, numpy=0>, <tf.Tensor: shape=(), dtype=int32, numpy=10>)\n"
     ]
    }
   ],
   "source": [
    "for a in ds3:\n",
    "    print(a)"
   ]
  },
  {
   "cell_type": "code",
   "execution_count": 61,
   "metadata": {},
   "outputs": [],
   "source": [
    "ds4 = ds3.batch(4)"
   ]
  },
  {
   "cell_type": "code",
   "execution_count": 62,
   "metadata": {
    "collapsed": true
   },
   "outputs": [
    {
     "name": "stdout",
     "output_type": "stream",
     "text": [
      "(<tf.Tensor: shape=(4,), dtype=int32, numpy=array([0, 1, 4, 9])>, <tf.Tensor: shape=(4,), dtype=int32, numpy=array([10, 11, 12, 13])>)\n",
      "(<tf.Tensor: shape=(4,), dtype=int32, numpy=array([16, 25, 36, 49])>, <tf.Tensor: shape=(4,), dtype=int32, numpy=array([14, 15, 16, 17])>)\n",
      "(<tf.Tensor: shape=(2,), dtype=int32, numpy=array([64, 81])>, <tf.Tensor: shape=(2,), dtype=int32, numpy=array([18, 19])>)\n"
     ]
    }
   ],
   "source": [
    "for a in ds4:\n",
    "    print(a)"
   ]
  },
  {
   "cell_type": "code",
   "execution_count": 64,
   "metadata": {
    "collapsed": true
   },
   "outputs": [
    {
     "name": "stdout",
     "output_type": "stream",
     "text": [
      "(<tf.Tensor: shape=(4,), dtype=int32, numpy=array([0, 1, 4, 9])>, <tf.Tensor: shape=(4,), dtype=int32, numpy=array([10, 11, 12, 13])>)\n",
      "(<tf.Tensor: shape=(4,), dtype=int32, numpy=array([16, 25, 36, 49])>, <tf.Tensor: shape=(4,), dtype=int32, numpy=array([14, 15, 16, 17])>)\n",
      "(<tf.Tensor: shape=(2,), dtype=int32, numpy=array([64, 81])>, <tf.Tensor: shape=(2,), dtype=int32, numpy=array([18, 19])>)\n",
      "(<tf.Tensor: shape=(4,), dtype=int32, numpy=array([0, 1, 4, 9])>, <tf.Tensor: shape=(4,), dtype=int32, numpy=array([10, 11, 12, 13])>)\n",
      "(<tf.Tensor: shape=(4,), dtype=int32, numpy=array([16, 25, 36, 49])>, <tf.Tensor: shape=(4,), dtype=int32, numpy=array([14, 15, 16, 17])>)\n",
      "(<tf.Tensor: shape=(2,), dtype=int32, numpy=array([64, 81])>, <tf.Tensor: shape=(2,), dtype=int32, numpy=array([18, 19])>)\n",
      "(<tf.Tensor: shape=(4,), dtype=int32, numpy=array([0, 1, 4, 9])>, <tf.Tensor: shape=(4,), dtype=int32, numpy=array([10, 11, 12, 13])>)\n",
      "(<tf.Tensor: shape=(4,), dtype=int32, numpy=array([16, 25, 36, 49])>, <tf.Tensor: shape=(4,), dtype=int32, numpy=array([14, 15, 16, 17])>)\n",
      "(<tf.Tensor: shape=(2,), dtype=int32, numpy=array([64, 81])>, <tf.Tensor: shape=(2,), dtype=int32, numpy=array([18, 19])>)\n"
     ]
    }
   ],
   "source": [
    "for a in ds4.repeat(3): #dataset.repeat(count) count횟수만큼 반복. count생략시 무한제공\n",
    "    print(a)"
   ]
  },
  {
   "cell_type": "code",
   "execution_count": 84,
   "metadata": {},
   "outputs": [],
   "source": [
    "dataset = tf.data.Dataset.from_tensor_slices((x, y)).map(lambda x, y : (x**2, y**3)).shuffle(10).batch(4)#.repeat(3)"
   ]
  },
  {
   "cell_type": "code",
   "execution_count": 85,
   "metadata": {},
   "outputs": [
    {
     "name": "stdout",
     "output_type": "stream",
     "text": [
      "(<tf.Tensor: shape=(4,), dtype=int32, numpy=array([ 9, 64,  0, 81])>, <tf.Tensor: shape=(4,), dtype=int32, numpy=array([2197, 5832, 1000, 6859])>)\n",
      "(<tf.Tensor: shape=(4,), dtype=int32, numpy=array([ 1, 36, 49, 25])>, <tf.Tensor: shape=(4,), dtype=int32, numpy=array([1331, 4096, 4913, 3375])>)\n",
      "(<tf.Tensor: shape=(2,), dtype=int32, numpy=array([ 4, 16])>, <tf.Tensor: shape=(2,), dtype=int32, numpy=array([1728, 2744])>)\n"
     ]
    }
   ],
   "source": [
    "for a in dataset:\n",
    "    print(a)"
   ]
  },
  {
   "cell_type": "code",
   "execution_count": 88,
   "metadata": {},
   "outputs": [],
   "source": [
    "dataset = tf.data.Dataset.from_tensor_slices((x, y)).map(lambda x, y : (x**2, y**3)).shuffle(10).batch(4, drop_remainder=True)#.repeat(3)"
   ]
  },
  {
   "cell_type": "code",
   "execution_count": 89,
   "metadata": {},
   "outputs": [
    {
     "name": "stdout",
     "output_type": "stream",
     "text": [
      "(<tf.Tensor: shape=(4,), dtype=int32, numpy=array([ 0, 16, 81, 25])>, <tf.Tensor: shape=(4,), dtype=int32, numpy=array([1000, 2744, 6859, 3375])>)\n",
      "(<tf.Tensor: shape=(4,), dtype=int32, numpy=array([ 9, 64, 36,  1])>, <tf.Tensor: shape=(4,), dtype=int32, numpy=array([2197, 5832, 4096, 1331])>)\n"
     ]
    }
   ],
   "source": [
    "for a in dataset:\n",
    "    print(a)"
   ]
  },
  {
   "cell_type": "markdown",
   "metadata": {},
   "source": [
    "# 1. 회귀 - Boston Housing Dataset\n",
    "보스턴 주택가격 dataset은 다음과 같은 속성을 바탕으로 해당 타운 주택 가격의 중앙값을 예측하는 문제.\n",
    "- CRIM: 범죄율\n",
    "- ZN: 25,000 평방피트당 주거지역 비율\n",
    "- INDUS: 비소매 상업지구 비율\n",
    "- CHAS: 찰스강에 인접해 있는지 여부(인접:1, 아니면:0)\n",
    "- NOX: 일산화질소 농도(단위: 0.1ppm)\n",
    "- RM: 주택당 방의 수\n",
    "- AGE: 1940년 이전에 건설된 주택의 비율\n",
    "- DIS: 5개의 보스턴 직업고용센터와의 거리(가중 평균)\n",
    "- RAD: 고속도로 접근성\n",
    "- TAX: 재산세율\n",
    "- PTRATIO: 학생/교사 비율\n",
    "- B: 흑인 비율\n",
    "- LSTAT: 하위 계층 비율\n",
    "\n",
    "예측해야하는 것\n",
    "- MEDV: 타운의 주택가격 중앙값(단위: 1,000달러)"
   ]
  },
  {
   "cell_type": "code",
   "execution_count": 1,
   "metadata": {},
   "outputs": [],
   "source": [
    "import numpy as np\n",
    "import tensorflow as tf\n",
    "from tensorflow import keras"
   ]
  },
  {
   "cell_type": "code",
   "execution_count": 2,
   "metadata": {},
   "outputs": [],
   "source": [
    "# random seed\n",
    "np.random.seed(1)\n",
    "tf.random.set_seed(1)"
   ]
  },
  {
   "cell_type": "code",
   "execution_count": 3,
   "metadata": {},
   "outputs": [
    {
     "data": {
      "text/plain": [
       "((404, 13), (102, 13))"
      ]
     },
     "execution_count": 3,
     "metadata": {},
     "output_type": "execute_result"
    }
   ],
   "source": [
    "#데이터셋 로딩\n",
    "(X_train, y_train), (X_test, y_test) = keras.datasets.boston_housing.load_data()\n",
    "X_train.shape, X_test.shape"
   ]
  },
  {
   "cell_type": "code",
   "execution_count": 4,
   "metadata": {},
   "outputs": [
    {
     "data": {
      "text/plain": [
       "array([15.2, 42.3, 50. , 21.1, 17.7])"
      ]
     },
     "execution_count": 4,
     "metadata": {},
     "output_type": "execute_result"
    }
   ],
   "source": [
    "y_train[:5] #회귀(Regression)"
   ]
  },
  {
   "cell_type": "code",
   "execution_count": 5,
   "metadata": {},
   "outputs": [
    {
     "data": {
      "text/plain": [
       "array([  1.23247,   0.     ,   8.14   ,   0.     ,   0.538  ,   6.142  ,\n",
       "        91.7    ,   3.9769 ,   4.     , 307.     ,  21.     , 396.9    ,\n",
       "        18.72   ])"
      ]
     },
     "execution_count": 5,
     "metadata": {},
     "output_type": "execute_result"
    }
   ],
   "source": [
    "X_train[0]"
   ]
  },
  {
   "cell_type": "code",
   "execution_count": 6,
   "metadata": {},
   "outputs": [],
   "source": [
    "# 하이퍼파라미터 값들을 설정\n",
    "LEARNING_RATE = 0.001 #학습률\n",
    "N_EPOCHS = 200 #에폭 횟수. 1 epoch 전체 데이터셋을 한번 사용한것.\n",
    "N_BATCHS = 32  #batch_size. 32개 데이터셋 마다 파라미터들(가중치) 업데이트. \n",
    "\n",
    "N_TRAIN = X_train.shape[0] #train set의 개수\n",
    "N_TEST = X_test.shape[0]  #test set 의 개수\n",
    "N_FEATURES = X_train.shape[1] #input data의  feature(컬럼) 개수"
   ]
  },
  {
   "cell_type": "code",
   "execution_count": 7,
   "metadata": {},
   "outputs": [],
   "source": [
    "# Dataset 생성\n",
    "# drop_remainder=True: 마지막에 batch size보다 제공할 데이터가 적으면 학습시 제공하지 말고 버려라.\n",
    "# repeat(): 여러 epoch을 돌때마다 계속 데이터를 제공하게 하기 위해.  repeat()를 지정하지 않으면 1 에폭후 데이터를 제공하지 못한다.\n",
    "train_dataset = tf.data.Dataset.from_tensor_slices((X_train, y_train)).shuffle(N_TRAIN).batch(N_BATCHS, drop_remainder=True).repeat()\n",
    "val_dataset = tf.data.Dataset.from_tensor_slices((X_test, y_test)).batch(N_BATCHS)"
   ]
  },
  {
   "cell_type": "code",
   "execution_count": 35,
   "metadata": {},
   "outputs": [],
   "source": [
    "# 모델 생성\n",
    "def create_model():\n",
    "    tf.random.set_seed(1)\n",
    "    model = keras.Sequential()\n",
    "    # 입력 Layer를 따로 정의.\n",
    "    # 첫번째 Layer를 만들때 input_shape(1개의 입력데이터의 형태)를 지정하면 입력 Layer층이 자동으로 생성된다.\n",
    "    model.add(keras.layers.Dense(units=16, activation='relu', input_shape=(N_FEATURES,))) \n",
    "    model.add(keras.layers.Dense(units=8, activation='relu'))\n",
    "    # 출력 Layer \n",
    "    model.add(keras.layers.Dense(units=1)) #회귀의 출력층: units수는 1, activation 함수는 사용하지 않는다.\n",
    "    \n",
    "    # 모델 컴파일\n",
    "    model.compile(optimizer=tf.keras.optimizers.Adam(learning_rate=LEARNING_RATE), # optimizer의 하이퍼파라미터를 기본값으로 쓸경우 문자열로 \"adam\"으로 선언하면됨.\n",
    "                  loss='mse') #회귀의 Loss 함수: mse\n",
    "    return model"
   ]
  },
  {
   "cell_type": "code",
   "execution_count": 36,
   "metadata": {},
   "outputs": [],
   "source": [
    "model = create_model()"
   ]
  },
  {
   "cell_type": "code",
   "execution_count": 37,
   "metadata": {},
   "outputs": [
    {
     "name": "stdout",
     "output_type": "stream",
     "text": [
      "Model: \"sequential_3\"\n",
      "_________________________________________________________________\n",
      "Layer (type)                 Output Shape              Param #   \n",
      "=================================================================\n",
      "dense_9 (Dense)              (None, 16)                224       \n",
      "_________________________________________________________________\n",
      "dense_10 (Dense)             (None, 8)                 136       \n",
      "_________________________________________________________________\n",
      "dense_11 (Dense)             (None, 1)                 9         \n",
      "=================================================================\n",
      "Total params: 369\n",
      "Trainable params: 369\n",
      "Non-trainable params: 0\n",
      "_________________________________________________________________\n"
     ]
    }
   ],
   "source": [
    "model.summary()"
   ]
  },
  {
   "cell_type": "code",
   "execution_count": 38,
   "metadata": {},
   "outputs": [],
   "source": [
    "# 1 step: 한번 가중치를 업데이트. batch size\n",
    "# 1 epoch: 전체 train 데이터를 한번 학습\n",
    "steps_per_epoch = N_TRAIN // N_BATCHS  # 학습데이터개수 // 배치수\n",
    "validation_steps = int(np.ceil(N_TEST/N_BATCHS))"
   ]
  },
  {
   "cell_type": "code",
   "execution_count": 39,
   "metadata": {
    "scrolled": true
   },
   "outputs": [
    {
     "name": "stdout",
     "output_type": "stream",
     "text": [
      "Train for 12 steps, validate for 4 steps\n",
      "Epoch 1/200\n",
      "12/12 [==============================] - 1s 73ms/step - loss: 1228.8859 - val_loss: 876.6531\n",
      "Epoch 2/200\n",
      "12/12 [==============================] - 0s 5ms/step - loss: 717.5112 - val_loss: 606.6439\n",
      "Epoch 3/200\n",
      "12/12 [==============================] - 0s 6ms/step - loss: 474.2078 - val_loss: 412.7228\n",
      "Epoch 4/200\n",
      "12/12 [==============================] - 0s 7ms/step - loss: 300.8678 - val_loss: 295.2818\n",
      "Epoch 5/200\n",
      "12/12 [==============================] - 0s 6ms/step - loss: 211.9981 - val_loss: 231.1789\n",
      "Epoch 6/200\n",
      "12/12 [==============================] - 0s 7ms/step - loss: 162.3588 - val_loss: 185.9575\n",
      "Epoch 7/200\n",
      "12/12 [==============================] - 0s 8ms/step - loss: 127.6942 - val_loss: 154.2719\n",
      "Epoch 8/200\n",
      "12/12 [==============================] - 0s 9ms/step - loss: 106.8683 - val_loss: 130.7799\n",
      "Epoch 9/200\n",
      "12/12 [==============================] - 0s 7ms/step - loss: 94.5046 - val_loss: 116.8399\n",
      "Epoch 10/200\n",
      "12/12 [==============================] - 0s 7ms/step - loss: 87.0276 - val_loss: 104.1066\n",
      "Epoch 11/200\n",
      "12/12 [==============================] - 0s 7ms/step - loss: 80.3302 - val_loss: 97.6174\n",
      "Epoch 12/200\n",
      "12/12 [==============================] - 0s 8ms/step - loss: 74.3672 - val_loss: 95.3754\n",
      "Epoch 13/200\n",
      "12/12 [==============================] - 0s 4ms/step - loss: 77.9786 - val_loss: 86.7958\n",
      "Epoch 14/200\n",
      "12/12 [==============================] - 0s 5ms/step - loss: 73.2283 - val_loss: 86.0764\n",
      "Epoch 15/200\n",
      "12/12 [==============================] - 0s 4ms/step - loss: 70.5938 - val_loss: 84.3822\n",
      "Epoch 16/200\n",
      "12/12 [==============================] - 0s 5ms/step - loss: 70.5982 - val_loss: 82.4014\n",
      "Epoch 17/200\n",
      "12/12 [==============================] - 0s 4ms/step - loss: 67.9656 - val_loss: 80.9552\n",
      "Epoch 18/200\n",
      "12/12 [==============================] - 0s 5ms/step - loss: 66.5399 - val_loss: 81.3548\n",
      "Epoch 19/200\n",
      "12/12 [==============================] - 0s 5ms/step - loss: 64.5369 - val_loss: 81.3138\n",
      "Epoch 20/200\n",
      "12/12 [==============================] - 0s 5ms/step - loss: 63.3150 - val_loss: 80.7746\n",
      "Epoch 21/200\n",
      "12/12 [==============================] - 0s 5ms/step - loss: 62.6833 - val_loss: 78.4621\n",
      "Epoch 22/200\n",
      "12/12 [==============================] - 0s 6ms/step - loss: 60.6673 - val_loss: 79.6199\n",
      "Epoch 23/200\n",
      "12/12 [==============================] - 0s 7ms/step - loss: 60.9797 - val_loss: 78.3588\n",
      "Epoch 24/200\n",
      "12/12 [==============================] - 0s 6ms/step - loss: 61.4241 - val_loss: 77.4237\n",
      "Epoch 25/200\n",
      "12/12 [==============================] - 0s 4ms/step - loss: 60.7773 - val_loss: 77.7501\n",
      "Epoch 26/200\n",
      "12/12 [==============================] - 0s 4ms/step - loss: 56.5605 - val_loss: 76.2257\n",
      "Epoch 27/200\n",
      "12/12 [==============================] - 0s 5ms/step - loss: 53.5719 - val_loss: 77.3523\n",
      "Epoch 28/200\n",
      "12/12 [==============================] - 0s 5ms/step - loss: 54.2627 - val_loss: 73.4266\n",
      "Epoch 29/200\n",
      "12/12 [==============================] - 0s 5ms/step - loss: 56.3854 - val_loss: 75.4791\n",
      "Epoch 30/200\n",
      "12/12 [==============================] - 0s 4ms/step - loss: 54.0694 - val_loss: 72.2563\n",
      "Epoch 31/200\n",
      "12/12 [==============================] - 0s 4ms/step - loss: 54.0361 - val_loss: 75.4538\n",
      "Epoch 32/200\n",
      "12/12 [==============================] - 0s 4ms/step - loss: 56.1332 - val_loss: 72.4321\n",
      "Epoch 33/200\n",
      "12/12 [==============================] - 0s 5ms/step - loss: 54.2293 - val_loss: 71.8086\n",
      "Epoch 34/200\n",
      "12/12 [==============================] - 0s 5ms/step - loss: 54.6705 - val_loss: 69.9420\n",
      "Epoch 35/200\n",
      "12/12 [==============================] - 0s 4ms/step - loss: 54.8572 - val_loss: 72.1027\n",
      "Epoch 36/200\n",
      "12/12 [==============================] - 0s 4ms/step - loss: 54.9732 - val_loss: 69.2689\n",
      "Epoch 37/200\n",
      "12/12 [==============================] - 0s 4ms/step - loss: 49.2851 - val_loss: 70.7975\n",
      "Epoch 38/200\n",
      "12/12 [==============================] - 0s 5ms/step - loss: 54.1286 - val_loss: 70.2574\n",
      "Epoch 39/200\n",
      "12/12 [==============================] - 0s 5ms/step - loss: 49.8486 - val_loss: 69.5541\n",
      "Epoch 40/200\n",
      "12/12 [==============================] - 0s 5ms/step - loss: 51.3413 - val_loss: 67.5913\n",
      "Epoch 41/200\n",
      "12/12 [==============================] - 0s 5ms/step - loss: 51.0797 - val_loss: 68.1365\n",
      "Epoch 42/200\n",
      "12/12 [==============================] - 0s 5ms/step - loss: 52.5331 - val_loss: 69.2274\n",
      "Epoch 43/200\n",
      "12/12 [==============================] - 0s 5ms/step - loss: 50.4141 - val_loss: 67.6255\n",
      "Epoch 44/200\n",
      "12/12 [==============================] - 0s 5ms/step - loss: 50.5598 - val_loss: 68.7847\n",
      "Epoch 45/200\n",
      "12/12 [==============================] - 0s 4ms/step - loss: 50.2382 - val_loss: 68.0702\n",
      "Epoch 46/200\n",
      "12/12 [==============================] - 0s 4ms/step - loss: 50.9902 - val_loss: 68.0622\n",
      "Epoch 47/200\n",
      "12/12 [==============================] - 0s 4ms/step - loss: 48.1361 - val_loss: 63.9665\n",
      "Epoch 48/200\n",
      "12/12 [==============================] - 0s 4ms/step - loss: 48.7527 - val_loss: 65.1861\n",
      "Epoch 49/200\n",
      "12/12 [==============================] - 0s 4ms/step - loss: 50.9145 - val_loss: 66.1069\n",
      "Epoch 50/200\n",
      "12/12 [==============================] - 0s 4ms/step - loss: 46.1371 - val_loss: 63.1202\n",
      "Epoch 51/200\n",
      "12/12 [==============================] - 0s 4ms/step - loss: 49.8386 - val_loss: 64.5338\n",
      "Epoch 52/200\n",
      "12/12 [==============================] - 0s 5ms/step - loss: 49.6671 - val_loss: 66.0402\n",
      "Epoch 53/200\n",
      "12/12 [==============================] - 0s 5ms/step - loss: 50.0548 - val_loss: 64.3702\n",
      "Epoch 54/200\n",
      "12/12 [==============================] - 0s 5ms/step - loss: 47.4412 - val_loss: 63.0204\n",
      "Epoch 55/200\n",
      "12/12 [==============================] - 0s 4ms/step - loss: 47.4516 - val_loss: 65.0620\n",
      "Epoch 56/200\n",
      "12/12 [==============================] - 0s 5ms/step - loss: 47.0943 - val_loss: 62.7480\n",
      "Epoch 57/200\n",
      "12/12 [==============================] - 0s 5ms/step - loss: 42.9467 - val_loss: 64.1807\n",
      "Epoch 58/200\n",
      "12/12 [==============================] - 0s 5ms/step - loss: 48.0453 - val_loss: 61.0244\n",
      "Epoch 59/200\n",
      "12/12 [==============================] - 0s 4ms/step - loss: 47.5528 - val_loss: 62.4298\n",
      "Epoch 60/200\n",
      "12/12 [==============================] - 0s 4ms/step - loss: 46.3864 - val_loss: 60.8875\n",
      "Epoch 61/200\n",
      "12/12 [==============================] - 0s 4ms/step - loss: 47.0185 - val_loss: 66.4783\n",
      "Epoch 62/200\n",
      "12/12 [==============================] - 0s 5ms/step - loss: 50.1520 - val_loss: 59.3975\n",
      "Epoch 63/200\n",
      "12/12 [==============================] - 0s 5ms/step - loss: 45.8401 - val_loss: 60.2362\n",
      "Epoch 64/200\n",
      "12/12 [==============================] - 0s 5ms/step - loss: 45.3369 - val_loss: 63.3437\n",
      "Epoch 65/200\n",
      "12/12 [==============================] - 0s 5ms/step - loss: 46.0809 - val_loss: 59.3001\n",
      "Epoch 66/200\n",
      "12/12 [==============================] - 0s 5ms/step - loss: 43.1159 - val_loss: 59.5899\n",
      "Epoch 67/200\n",
      "12/12 [==============================] - 0s 5ms/step - loss: 46.1714 - val_loss: 62.0644\n",
      "Epoch 68/200\n",
      "12/12 [==============================] - 0s 5ms/step - loss: 44.7434 - val_loss: 58.2501\n",
      "Epoch 69/200\n",
      "12/12 [==============================] - 0s 5ms/step - loss: 45.2274 - val_loss: 59.8829\n",
      "Epoch 70/200\n",
      "12/12 [==============================] - 0s 5ms/step - loss: 43.4518 - val_loss: 58.4133\n",
      "Epoch 71/200\n",
      "12/12 [==============================] - 0s 5ms/step - loss: 44.8960 - val_loss: 57.5009\n",
      "Epoch 72/200\n",
      "12/12 [==============================] - 0s 5ms/step - loss: 44.5471 - val_loss: 58.9307\n",
      "Epoch 73/200\n",
      "12/12 [==============================] - 0s 5ms/step - loss: 44.1124 - val_loss: 55.9687\n",
      "Epoch 74/200\n",
      "12/12 [==============================] - 0s 7ms/step - loss: 43.6863 - val_loss: 56.2042\n",
      "Epoch 75/200\n",
      "12/12 [==============================] - 0s 4ms/step - loss: 42.6091 - val_loss: 58.1591\n",
      "Epoch 76/200\n",
      "12/12 [==============================] - 0s 4ms/step - loss: 45.1181 - val_loss: 54.9849\n",
      "Epoch 77/200\n",
      "12/12 [==============================] - 0s 4ms/step - loss: 43.5000 - val_loss: 58.3061\n",
      "Epoch 78/200\n",
      "12/12 [==============================] - 0s 4ms/step - loss: 43.3162 - val_loss: 54.2859\n",
      "Epoch 79/200\n",
      "12/12 [==============================] - 0s 5ms/step - loss: 41.7838 - val_loss: 55.4916\n",
      "Epoch 80/200\n",
      "12/12 [==============================] - 0s 5ms/step - loss: 39.9035 - val_loss: 60.2899\n"
     ]
    },
    {
     "name": "stdout",
     "output_type": "stream",
     "text": [
      "Epoch 81/200\n",
      "12/12 [==============================] - 0s 5ms/step - loss: 43.4493 - val_loss: 55.3741\n",
      "Epoch 82/200\n",
      "12/12 [==============================] - 0s 4ms/step - loss: 44.6517 - val_loss: 54.8496\n",
      "Epoch 83/200\n",
      "12/12 [==============================] - 0s 4ms/step - loss: 42.1866 - val_loss: 54.8824\n",
      "Epoch 84/200\n",
      "12/12 [==============================] - 0s 4ms/step - loss: 39.7243 - val_loss: 53.9681\n",
      "Epoch 85/200\n",
      "12/12 [==============================] - 0s 5ms/step - loss: 41.9014 - val_loss: 51.9533\n",
      "Epoch 86/200\n",
      "12/12 [==============================] - 0s 5ms/step - loss: 41.5451 - val_loss: 53.3505\n",
      "Epoch 87/200\n",
      "12/12 [==============================] - 0s 4ms/step - loss: 40.9931 - val_loss: 54.6389\n",
      "Epoch 88/200\n",
      "12/12 [==============================] - 0s 5ms/step - loss: 40.7571 - val_loss: 53.2792\n",
      "Epoch 89/200\n",
      "12/12 [==============================] - 0s 4ms/step - loss: 38.2576 - val_loss: 51.1942\n",
      "Epoch 90/200\n",
      "12/12 [==============================] - 0s 4ms/step - loss: 39.1975 - val_loss: 51.6909\n",
      "Epoch 91/200\n",
      "12/12 [==============================] - 0s 4ms/step - loss: 38.6593 - val_loss: 51.9764\n",
      "Epoch 92/200\n",
      "12/12 [==============================] - 0s 5ms/step - loss: 38.9600 - val_loss: 57.0849\n",
      "Epoch 93/200\n",
      "12/12 [==============================] - 0s 5ms/step - loss: 40.6047 - val_loss: 50.7719\n",
      "Epoch 94/200\n",
      "12/12 [==============================] - 0s 4ms/step - loss: 40.2661 - val_loss: 49.9623\n",
      "Epoch 95/200\n",
      "12/12 [==============================] - 0s 4ms/step - loss: 35.8557 - val_loss: 50.4295\n",
      "Epoch 96/200\n",
      "12/12 [==============================] - 0s 4ms/step - loss: 39.3758 - val_loss: 54.1884\n",
      "Epoch 97/200\n",
      "12/12 [==============================] - 0s 4ms/step - loss: 41.8442 - val_loss: 49.2060\n",
      "Epoch 98/200\n",
      "12/12 [==============================] - 0s 4ms/step - loss: 39.7498 - val_loss: 47.8451\n",
      "Epoch 99/200\n",
      "12/12 [==============================] - 0s 4ms/step - loss: 38.1365 - val_loss: 52.8689\n",
      "Epoch 100/200\n",
      "12/12 [==============================] - 0s 5ms/step - loss: 40.6711 - val_loss: 49.7607\n",
      "Epoch 101/200\n",
      "12/12 [==============================] - 0s 4ms/step - loss: 40.7649 - val_loss: 48.3259\n",
      "Epoch 102/200\n",
      "12/12 [==============================] - 0s 5ms/step - loss: 39.3096 - val_loss: 48.5330\n",
      "Epoch 103/200\n",
      "12/12 [==============================] - 0s 4ms/step - loss: 37.1356 - val_loss: 49.7037\n",
      "Epoch 104/200\n",
      "12/12 [==============================] - 0s 4ms/step - loss: 39.9447 - val_loss: 46.6504\n",
      "Epoch 105/200\n",
      "12/12 [==============================] - 0s 4ms/step - loss: 38.4711 - val_loss: 46.8527\n",
      "Epoch 106/200\n",
      "12/12 [==============================] - 0s 4ms/step - loss: 38.1039 - val_loss: 53.8550\n",
      "Epoch 107/200\n",
      "12/12 [==============================] - 0s 5ms/step - loss: 36.4364 - val_loss: 47.8199\n",
      "Epoch 108/200\n",
      "12/12 [==============================] - 0s 5ms/step - loss: 34.9551 - val_loss: 51.4787\n",
      "Epoch 109/200\n",
      "12/12 [==============================] - 0s 4ms/step - loss: 38.2834 - val_loss: 46.9255\n",
      "Epoch 110/200\n",
      "12/12 [==============================] - 0s 4ms/step - loss: 35.2847 - val_loss: 49.1941\n",
      "Epoch 111/200\n",
      "12/12 [==============================] - 0s 4ms/step - loss: 38.0895 - val_loss: 46.2034\n",
      "Epoch 112/200\n",
      "12/12 [==============================] - 0s 5ms/step - loss: 35.6463 - val_loss: 48.1650\n",
      "Epoch 113/200\n",
      "12/12 [==============================] - 0s 5ms/step - loss: 35.7900 - val_loss: 46.1400\n",
      "Epoch 114/200\n",
      "12/12 [==============================] - 0s 4ms/step - loss: 35.9390 - val_loss: 47.1177\n",
      "Epoch 115/200\n",
      "12/12 [==============================] - 0s 4ms/step - loss: 36.2059 - val_loss: 44.6647\n",
      "Epoch 116/200\n",
      "12/12 [==============================] - 0s 5ms/step - loss: 35.9192 - val_loss: 44.9618\n",
      "Epoch 117/200\n",
      "12/12 [==============================] - 0s 4ms/step - loss: 37.1335 - val_loss: 47.8667\n",
      "Epoch 118/200\n",
      "12/12 [==============================] - 0s 5ms/step - loss: 35.8719 - val_loss: 45.6881\n",
      "Epoch 119/200\n",
      "12/12 [==============================] - 0s 4ms/step - loss: 38.4295 - val_loss: 48.5580\n",
      "Epoch 120/200\n",
      "12/12 [==============================] - 0s 4ms/step - loss: 40.5501 - val_loss: 49.8042\n",
      "Epoch 121/200\n",
      "12/12 [==============================] - 0s 4ms/step - loss: 41.1604 - val_loss: 52.1714\n",
      "Epoch 122/200\n",
      "12/12 [==============================] - 0s 4ms/step - loss: 39.5555 - val_loss: 44.0278\n",
      "Epoch 123/200\n",
      "12/12 [==============================] - 0s 4ms/step - loss: 35.8637 - val_loss: 43.2488\n",
      "Epoch 124/200\n",
      "12/12 [==============================] - 0s 4ms/step - loss: 36.6953 - val_loss: 45.4083\n",
      "Epoch 125/200\n",
      "12/12 [==============================] - 0s 4ms/step - loss: 35.0812 - val_loss: 43.6369\n",
      "Epoch 126/200\n",
      "12/12 [==============================] - 0s 4ms/step - loss: 35.2098 - val_loss: 43.0751\n",
      "Epoch 127/200\n",
      "12/12 [==============================] - 0s 4ms/step - loss: 33.9501 - val_loss: 44.2986\n",
      "Epoch 128/200\n",
      "12/12 [==============================] - 0s 6ms/step - loss: 34.9396 - val_loss: 45.1904\n",
      "Epoch 129/200\n",
      "12/12 [==============================] - 0s 5ms/step - loss: 35.9432 - val_loss: 42.7714\n",
      "Epoch 130/200\n",
      "12/12 [==============================] - 0s 4ms/step - loss: 36.3385 - val_loss: 43.4133\n",
      "Epoch 131/200\n",
      "12/12 [==============================] - 0s 5ms/step - loss: 34.3578 - val_loss: 42.9263\n",
      "Epoch 132/200\n",
      "12/12 [==============================] - 0s 4ms/step - loss: 34.1665 - val_loss: 42.6862\n",
      "Epoch 133/200\n",
      "12/12 [==============================] - 0s 4ms/step - loss: 35.0359 - val_loss: 42.7095\n",
      "Epoch 134/200\n",
      "12/12 [==============================] - 0s 5ms/step - loss: 33.3975 - val_loss: 43.3193\n",
      "Epoch 135/200\n",
      "12/12 [==============================] - 0s 4ms/step - loss: 35.0974 - val_loss: 41.3824\n",
      "Epoch 136/200\n",
      "12/12 [==============================] - 0s 5ms/step - loss: 34.7842 - val_loss: 43.4054\n",
      "Epoch 137/200\n",
      "12/12 [==============================] - 0s 5ms/step - loss: 35.7006 - val_loss: 45.4088\n",
      "Epoch 138/200\n",
      "12/12 [==============================] - 0s 5ms/step - loss: 34.0169 - val_loss: 43.1511\n",
      "Epoch 139/200\n",
      "12/12 [==============================] - 0s 5ms/step - loss: 33.2163 - val_loss: 42.0216\n",
      "Epoch 140/200\n",
      "12/12 [==============================] - 0s 5ms/step - loss: 32.8245 - val_loss: 41.3520\n",
      "Epoch 141/200\n",
      "12/12 [==============================] - 0s 4ms/step - loss: 36.0436 - val_loss: 40.5148\n",
      "Epoch 142/200\n",
      "12/12 [==============================] - 0s 4ms/step - loss: 33.6215 - val_loss: 39.8102\n",
      "Epoch 143/200\n",
      "12/12 [==============================] - 0s 5ms/step - loss: 33.4459 - val_loss: 43.5718\n",
      "Epoch 144/200\n",
      "12/12 [==============================] - 0s 5ms/step - loss: 34.6214 - val_loss: 40.9892\n",
      "Epoch 145/200\n",
      "12/12 [==============================] - 0s 5ms/step - loss: 34.4461 - val_loss: 41.4426\n",
      "Epoch 146/200\n",
      "12/12 [==============================] - 0s 5ms/step - loss: 32.0629 - val_loss: 39.1839\n",
      "Epoch 147/200\n",
      "12/12 [==============================] - 0s 5ms/step - loss: 34.4176 - val_loss: 39.9766\n",
      "Epoch 148/200\n",
      "12/12 [==============================] - 0s 4ms/step - loss: 34.1936 - val_loss: 40.7316\n",
      "Epoch 149/200\n",
      "12/12 [==============================] - 0s 4ms/step - loss: 33.7647 - val_loss: 39.5733\n",
      "Epoch 150/200\n",
      "12/12 [==============================] - 0s 4ms/step - loss: 31.6563 - val_loss: 39.3827\n",
      "Epoch 151/200\n",
      "12/12 [==============================] - 0s 4ms/step - loss: 34.2308 - val_loss: 40.3558\n",
      "Epoch 152/200\n",
      "12/12 [==============================] - 0s 4ms/step - loss: 31.9590 - val_loss: 39.0882\n",
      "Epoch 153/200\n",
      "12/12 [==============================] - 0s 5ms/step - loss: 32.5829 - val_loss: 39.3778\n",
      "Epoch 154/200\n",
      "12/12 [==============================] - 0s 4ms/step - loss: 30.1014 - val_loss: 40.3660\n",
      "Epoch 155/200\n",
      "12/12 [==============================] - 0s 4ms/step - loss: 33.5264 - val_loss: 38.5909\n",
      "Epoch 156/200\n",
      "12/12 [==============================] - 0s 4ms/step - loss: 32.9470 - val_loss: 38.6652\n",
      "Epoch 157/200\n",
      "12/12 [==============================] - 0s 4ms/step - loss: 33.4287 - val_loss: 39.3547\n",
      "Epoch 158/200\n",
      "12/12 [==============================] - 0s 5ms/step - loss: 32.8588 - val_loss: 39.8886\n",
      "Epoch 159/200\n",
      "12/12 [==============================] - 0s 5ms/step - loss: 31.7443 - val_loss: 38.3092\n",
      "Epoch 160/200\n"
     ]
    },
    {
     "name": "stdout",
     "output_type": "stream",
     "text": [
      "12/12 [==============================] - 0s 4ms/step - loss: 32.1803 - val_loss: 38.6217\n",
      "Epoch 161/200\n",
      "12/12 [==============================] - 0s 5ms/step - loss: 32.1269 - val_loss: 39.6022\n",
      "Epoch 162/200\n",
      "12/12 [==============================] - 0s 5ms/step - loss: 31.2362 - val_loss: 37.7983\n",
      "Epoch 163/200\n",
      "12/12 [==============================] - 0s 4ms/step - loss: 30.2552 - val_loss: 39.3286\n",
      "Epoch 164/200\n",
      "12/12 [==============================] - 0s 5ms/step - loss: 30.4410 - val_loss: 38.4474\n",
      "Epoch 165/200\n",
      "12/12 [==============================] - 0s 4ms/step - loss: 30.3729 - val_loss: 37.6528\n",
      "Epoch 166/200\n",
      "12/12 [==============================] - 0s 4ms/step - loss: 29.9093 - val_loss: 37.0036\n",
      "Epoch 167/200\n",
      "12/12 [==============================] - 0s 4ms/step - loss: 32.2800 - val_loss: 41.2638\n",
      "Epoch 168/200\n",
      "12/12 [==============================] - 0s 4ms/step - loss: 32.2387 - val_loss: 38.8702\n",
      "Epoch 169/200\n",
      "12/12 [==============================] - 0s 4ms/step - loss: 31.5157 - val_loss: 37.7450\n",
      "Epoch 170/200\n",
      "12/12 [==============================] - 0s 4ms/step - loss: 31.3064 - val_loss: 37.4706\n",
      "Epoch 171/200\n",
      "12/12 [==============================] - 0s 5ms/step - loss: 31.0211 - val_loss: 36.9319\n",
      "Epoch 172/200\n",
      "12/12 [==============================] - 0s 5ms/step - loss: 31.6922 - val_loss: 37.7676\n",
      "Epoch 173/200\n",
      "12/12 [==============================] - 0s 4ms/step - loss: 30.8210 - val_loss: 37.4503\n",
      "Epoch 174/200\n",
      "12/12 [==============================] - 0s 4ms/step - loss: 29.6113 - val_loss: 37.5961\n",
      "Epoch 175/200\n",
      "12/12 [==============================] - 0s 4ms/step - loss: 31.1055 - val_loss: 37.6232\n",
      "Epoch 176/200\n",
      "12/12 [==============================] - 0s 4ms/step - loss: 31.1361 - val_loss: 37.7764\n",
      "Epoch 177/200\n",
      "12/12 [==============================] - 0s 4ms/step - loss: 31.8127 - val_loss: 36.6769\n",
      "Epoch 178/200\n",
      "12/12 [==============================] - 0s 4ms/step - loss: 32.2329 - val_loss: 36.8261\n",
      "Epoch 179/200\n",
      "12/12 [==============================] - 0s 4ms/step - loss: 30.9152 - val_loss: 38.9760\n",
      "Epoch 180/200\n",
      "12/12 [==============================] - 0s 4ms/step - loss: 32.1318 - val_loss: 37.9969\n",
      "Epoch 181/200\n",
      "12/12 [==============================] - 0s 6ms/step - loss: 31.1843 - val_loss: 36.1689\n",
      "Epoch 182/200\n",
      "12/12 [==============================] - 0s 4ms/step - loss: 32.0370 - val_loss: 37.9383\n",
      "Epoch 183/200\n",
      "12/12 [==============================] - 0s 4ms/step - loss: 32.3498 - val_loss: 36.4720\n",
      "Epoch 184/200\n",
      "12/12 [==============================] - 0s 4ms/step - loss: 33.6865 - val_loss: 40.3008\n",
      "Epoch 185/200\n",
      "12/12 [==============================] - 0s 5ms/step - loss: 30.6813 - val_loss: 36.1698\n",
      "Epoch 186/200\n",
      "12/12 [==============================] - 0s 4ms/step - loss: 31.0809 - val_loss: 36.0129\n",
      "Epoch 187/200\n",
      "12/12 [==============================] - 0s 4ms/step - loss: 31.9025 - val_loss: 38.5915\n",
      "Epoch 188/200\n",
      "12/12 [==============================] - 0s 4ms/step - loss: 31.4309 - val_loss: 36.7341\n",
      "Epoch 189/200\n",
      "12/12 [==============================] - 0s 4ms/step - loss: 31.5758 - val_loss: 36.0034\n",
      "Epoch 190/200\n",
      "12/12 [==============================] - 0s 4ms/step - loss: 28.4158 - val_loss: 36.7264\n",
      "Epoch 191/200\n",
      "12/12 [==============================] - 0s 5ms/step - loss: 31.0639 - val_loss: 35.8634\n",
      "Epoch 192/200\n",
      "12/12 [==============================] - 0s 4ms/step - loss: 30.6011 - val_loss: 36.3941\n",
      "Epoch 193/200\n",
      "12/12 [==============================] - 0s 4ms/step - loss: 31.6106 - val_loss: 37.3514\n",
      "Epoch 194/200\n",
      "12/12 [==============================] - 0s 4ms/step - loss: 31.0421 - val_loss: 36.2310\n",
      "Epoch 195/200\n",
      "12/12 [==============================] - 0s 4ms/step - loss: 30.9470 - val_loss: 35.9349\n",
      "Epoch 196/200\n",
      "12/12 [==============================] - 0s 4ms/step - loss: 30.7358 - val_loss: 39.3744\n",
      "Epoch 197/200\n",
      "12/12 [==============================] - 0s 4ms/step - loss: 31.1983 - val_loss: 38.3384\n",
      "Epoch 198/200\n",
      "12/12 [==============================] - 0s 4ms/step - loss: 34.0083 - val_loss: 39.1509\n",
      "Epoch 199/200\n",
      "12/12 [==============================] - 0s 4ms/step - loss: 32.4415 - val_loss: 40.4149\n",
      "Epoch 200/200\n",
      "12/12 [==============================] - 0s 5ms/step - loss: 31.4435 - val_loss: 36.1328\n"
     ]
    }
   ],
   "source": [
    "history = model.fit(train_dataset,  #train dataset (X_train, y_train)\n",
    "                    epochs=N_EPOCHS, \n",
    "                    steps_per_epoch=steps_per_epoch, #1에폭당 step 수\n",
    "                    validation_data=val_dataset, #검증 Dataset 지정.\n",
    "                    validation_steps=validation_steps)"
   ]
  },
  {
   "cell_type": "code",
   "execution_count": 40,
   "metadata": {},
   "outputs": [
    {
     "data": {
      "text/plain": [
       "dict_keys(['loss', 'val_loss'])"
      ]
     },
     "execution_count": 40,
     "metadata": {},
     "output_type": "execute_result"
    }
   ],
   "source": [
    "history.history.keys()"
   ]
  },
  {
   "cell_type": "code",
   "execution_count": 41,
   "metadata": {},
   "outputs": [
    {
     "data": {
      "text/plain": [
       "{'loss': [1228.8859405517578,\n",
       "  717.5112330118815,\n",
       "  474.2077992757161,\n",
       "  300.8678258260091,\n",
       "  211.99814224243164,\n",
       "  162.3587907155355,\n",
       "  127.69416618347168,\n",
       "  106.86832618713379,\n",
       "  94.50460306803386,\n",
       "  87.02761141459148,\n",
       "  80.33016173044841,\n",
       "  74.36719608306885,\n",
       "  77.9785737991333,\n",
       "  73.2283239364624,\n",
       "  70.59380849202473,\n",
       "  70.59815549850464,\n",
       "  67.96559206644694,\n",
       "  66.53985786437988,\n",
       "  64.53686396280925,\n",
       "  63.314967473347984,\n",
       "  62.68328698476156,\n",
       "  60.667293866475426,\n",
       "  60.97968816757202,\n",
       "  61.42413870493571,\n",
       "  60.7773110071818,\n",
       "  56.56049060821533,\n",
       "  53.571922302246094,\n",
       "  54.26269022623698,\n",
       "  56.38544511795044,\n",
       "  54.069431940714516,\n",
       "  54.036149660746254,\n",
       "  56.13321177164713,\n",
       "  54.229312896728516,\n",
       "  54.670544942220054,\n",
       "  54.8571564356486,\n",
       "  54.97316789627075,\n",
       "  49.28511253992716,\n",
       "  54.128565629323326,\n",
       "  49.84863901138306,\n",
       "  51.341275691986084,\n",
       "  51.07966899871826,\n",
       "  52.53305768966675,\n",
       "  50.41412115097046,\n",
       "  50.55982939402262,\n",
       "  50.23822625478109,\n",
       "  50.99024295806885,\n",
       "  48.13614765803019,\n",
       "  48.752711613972984,\n",
       "  50.91454251607259,\n",
       "  46.1371218363444,\n",
       "  49.83855946858724,\n",
       "  49.667118072509766,\n",
       "  50.05475171407064,\n",
       "  47.441208044687905,\n",
       "  47.45158004760742,\n",
       "  47.09434302647909,\n",
       "  42.94670661290487,\n",
       "  48.04528029759725,\n",
       "  47.55278984705607,\n",
       "  46.386438051859535,\n",
       "  47.01853720347086,\n",
       "  50.15200169881185,\n",
       "  45.84008026123047,\n",
       "  45.33692741394043,\n",
       "  46.08091417948405,\n",
       "  43.11588144302368,\n",
       "  46.17135715484619,\n",
       "  44.74338912963867,\n",
       "  45.22737296422323,\n",
       "  43.45184048016866,\n",
       "  44.89601755142212,\n",
       "  44.5471183458964,\n",
       "  44.112366676330566,\n",
       "  43.68628772099813,\n",
       "  42.609105587005615,\n",
       "  45.1181263923645,\n",
       "  43.50000508626302,\n",
       "  43.31623697280884,\n",
       "  41.783779780069985,\n",
       "  39.90351231892904,\n",
       "  43.449293533960976,\n",
       "  44.651739915212,\n",
       "  42.186551570892334,\n",
       "  39.724343140920006,\n",
       "  41.90138530731201,\n",
       "  41.54508622487386,\n",
       "  40.993073066075645,\n",
       "  40.75706593195597,\n",
       "  38.25764878590902,\n",
       "  39.19748640060425,\n",
       "  38.65929905573527,\n",
       "  38.95995775858561,\n",
       "  40.604686419169106,\n",
       "  40.266111850738525,\n",
       "  35.85566306114197,\n",
       "  39.37584924697876,\n",
       "  41.84418741861979,\n",
       "  39.749786694844566,\n",
       "  38.13654685020447,\n",
       "  40.67105484008789,\n",
       "  40.76488987604777,\n",
       "  39.30955266952515,\n",
       "  37.135636488596596,\n",
       "  39.944650650024414,\n",
       "  38.47105566660563,\n",
       "  38.103925704956055,\n",
       "  36.43644428253174,\n",
       "  34.95506874720255,\n",
       "  38.28340164820353,\n",
       "  35.284684340159096,\n",
       "  38.08952331542969,\n",
       "  35.64631795883179,\n",
       "  35.790027141571045,\n",
       "  35.93896293640137,\n",
       "  36.205898443857826,\n",
       "  35.919166564941406,\n",
       "  37.13347069422404,\n",
       "  35.871905167897545,\n",
       "  38.42951122919718,\n",
       "  40.550133228302,\n",
       "  41.16039037704468,\n",
       "  39.55546681086222,\n",
       "  35.863720178604126,\n",
       "  36.69526028633118,\n",
       "  35.08115863800049,\n",
       "  35.20978705088297,\n",
       "  33.95009938875834,\n",
       "  34.93961310386658,\n",
       "  35.94318699836731,\n",
       "  36.33849541346232,\n",
       "  34.357811530431114,\n",
       "  34.1664666334788,\n",
       "  35.03594175974528,\n",
       "  33.39747015635172,\n",
       "  35.0973535378774,\n",
       "  34.784205516179405,\n",
       "  35.70059887568156,\n",
       "  34.01691977183024,\n",
       "  33.21631940205892,\n",
       "  32.82452948888143,\n",
       "  36.0436323483785,\n",
       "  33.62148666381836,\n",
       "  33.445916334788,\n",
       "  34.62136141459147,\n",
       "  34.446099599202476,\n",
       "  32.062893867492676,\n",
       "  34.417582511901855,\n",
       "  34.19357872009277,\n",
       "  33.764685233434044,\n",
       "  31.656284014383953,\n",
       "  34.23078997929891,\n",
       "  31.958966334660847,\n",
       "  32.58292945226034,\n",
       "  30.10141086578369,\n",
       "  33.526360511779785,\n",
       "  32.94697046279907,\n",
       "  33.428677558898926,\n",
       "  32.85883673032125,\n",
       "  31.744301954905193,\n",
       "  32.180306831995644,\n",
       "  32.126854022343956,\n",
       "  31.2362380027771,\n",
       "  30.25515604019165,\n",
       "  30.440985520680744,\n",
       "  30.372862974802654,\n",
       "  29.90925137201945,\n",
       "  32.28004280726115,\n",
       "  32.238654136657715,\n",
       "  31.51574198404948,\n",
       "  31.306417226791382,\n",
       "  31.021113395690918,\n",
       "  31.692230224609375,\n",
       "  30.821004788080852,\n",
       "  29.61131962140401,\n",
       "  31.105453491210938,\n",
       "  31.13607358932495,\n",
       "  31.812665859858196,\n",
       "  32.232903798421226,\n",
       "  30.915245691935223,\n",
       "  32.13179111480713,\n",
       "  31.184303283691406,\n",
       "  32.0369873046875,\n",
       "  32.3497699101766,\n",
       "  33.686502854029335,\n",
       "  30.681251525878906,\n",
       "  31.080925782521565,\n",
       "  31.90252987543742,\n",
       "  31.430888334910076,\n",
       "  31.57578770319621,\n",
       "  28.41575821240743,\n",
       "  31.063921531041462,\n",
       "  30.60114510854085,\n",
       "  31.610580921173096,\n",
       "  31.04210599263509,\n",
       "  30.946996132532757,\n",
       "  30.73580042521159,\n",
       "  31.198270320892334,\n",
       "  34.00833288828532,\n",
       "  32.44150082270304,\n",
       "  31.443477312723797],\n",
       " 'val_loss': [876.6530609130859,\n",
       "  606.6439361572266,\n",
       "  412.72278594970703,\n",
       "  295.2817916870117,\n",
       "  231.17889022827148,\n",
       "  185.95751953125,\n",
       "  154.2718505859375,\n",
       "  130.77989196777344,\n",
       "  116.83993148803711,\n",
       "  104.10661315917969,\n",
       "  97.61736869812012,\n",
       "  95.3753833770752,\n",
       "  86.7958345413208,\n",
       "  86.076416015625,\n",
       "  84.38224792480469,\n",
       "  82.40142059326172,\n",
       "  80.95523071289062,\n",
       "  81.35478496551514,\n",
       "  81.31382942199707,\n",
       "  80.77457523345947,\n",
       "  78.46213817596436,\n",
       "  79.61986351013184,\n",
       "  78.35881805419922,\n",
       "  77.42369270324707,\n",
       "  77.7501277923584,\n",
       "  76.22573566436768,\n",
       "  77.35232925415039,\n",
       "  73.42659378051758,\n",
       "  75.47906684875488,\n",
       "  72.25631618499756,\n",
       "  75.45379257202148,\n",
       "  72.43208503723145,\n",
       "  71.80859661102295,\n",
       "  69.94196701049805,\n",
       "  72.10267543792725,\n",
       "  69.26894283294678,\n",
       "  70.79751300811768,\n",
       "  70.25739860534668,\n",
       "  69.55407524108887,\n",
       "  67.59132289886475,\n",
       "  68.13646793365479,\n",
       "  69.2274398803711,\n",
       "  67.62546825408936,\n",
       "  68.78472995758057,\n",
       "  68.07022666931152,\n",
       "  68.06218338012695,\n",
       "  63.96652030944824,\n",
       "  65.18609619140625,\n",
       "  66.1069164276123,\n",
       "  63.120201110839844,\n",
       "  64.53377628326416,\n",
       "  66.04022789001465,\n",
       "  64.37024974822998,\n",
       "  63.02040100097656,\n",
       "  65.06199979782104,\n",
       "  62.74795436859131,\n",
       "  64.18065738677979,\n",
       "  61.02437353134155,\n",
       "  62.42982864379883,\n",
       "  60.88747024536133,\n",
       "  66.4783205986023,\n",
       "  59.39750671386719,\n",
       "  60.23617076873779,\n",
       "  63.34370470046997,\n",
       "  59.30009317398071,\n",
       "  59.58986473083496,\n",
       "  62.06438064575195,\n",
       "  58.25006628036499,\n",
       "  59.88291788101196,\n",
       "  58.4132604598999,\n",
       "  57.500858306884766,\n",
       "  58.93067646026611,\n",
       "  55.968711853027344,\n",
       "  56.204190254211426,\n",
       "  58.15906238555908,\n",
       "  54.98487997055054,\n",
       "  58.30607509613037,\n",
       "  54.285943031311035,\n",
       "  55.491610527038574,\n",
       "  60.289870262145996,\n",
       "  55.374053955078125,\n",
       "  54.84963321685791,\n",
       "  54.88242149353027,\n",
       "  53.96805477142334,\n",
       "  51.95331859588623,\n",
       "  53.35046720504761,\n",
       "  54.63886070251465,\n",
       "  53.279181480407715,\n",
       "  51.19423246383667,\n",
       "  51.690865993499756,\n",
       "  51.97640895843506,\n",
       "  57.084861278533936,\n",
       "  50.77191638946533,\n",
       "  49.96233558654785,\n",
       "  50.429495334625244,\n",
       "  54.188377380371094,\n",
       "  49.20596981048584,\n",
       "  47.845125675201416,\n",
       "  52.86885166168213,\n",
       "  49.76072359085083,\n",
       "  48.32594108581543,\n",
       "  48.53301525115967,\n",
       "  49.70371341705322,\n",
       "  46.65035104751587,\n",
       "  46.85274839401245,\n",
       "  53.8550443649292,\n",
       "  47.81991004943848,\n",
       "  51.4787015914917,\n",
       "  46.92550754547119,\n",
       "  49.194119453430176,\n",
       "  46.20344257354736,\n",
       "  48.1650276184082,\n",
       "  46.13999032974243,\n",
       "  47.11774444580078,\n",
       "  44.66471815109253,\n",
       "  44.961782455444336,\n",
       "  47.86671495437622,\n",
       "  45.68813133239746,\n",
       "  48.557974338531494,\n",
       "  49.80419921875,\n",
       "  52.17137050628662,\n",
       "  44.02782392501831,\n",
       "  43.24883270263672,\n",
       "  45.40825080871582,\n",
       "  43.63692665100098,\n",
       "  43.07509422302246,\n",
       "  44.29860067367554,\n",
       "  45.19035243988037,\n",
       "  42.77144193649292,\n",
       "  43.41330003738403,\n",
       "  42.92634963989258,\n",
       "  42.68623161315918,\n",
       "  42.70949602127075,\n",
       "  43.31929922103882,\n",
       "  41.38242959976196,\n",
       "  43.4053897857666,\n",
       "  45.40882921218872,\n",
       "  43.15112543106079,\n",
       "  42.02161121368408,\n",
       "  41.35204362869263,\n",
       "  40.51480293273926,\n",
       "  39.81016826629639,\n",
       "  43.571807861328125,\n",
       "  40.989190101623535,\n",
       "  41.44255256652832,\n",
       "  39.18391418457031,\n",
       "  39.97657537460327,\n",
       "  40.73159980773926,\n",
       "  39.57334661483765,\n",
       "  39.38270902633667,\n",
       "  40.35575819015503,\n",
       "  39.08822536468506,\n",
       "  39.377758502960205,\n",
       "  40.36604404449463,\n",
       "  38.59089183807373,\n",
       "  38.66524410247803,\n",
       "  39.35472822189331,\n",
       "  39.88856077194214,\n",
       "  38.309181690216064,\n",
       "  38.62173891067505,\n",
       "  39.602237701416016,\n",
       "  37.79827260971069,\n",
       "  39.32862854003906,\n",
       "  38.44739770889282,\n",
       "  37.65275859832764,\n",
       "  37.00360918045044,\n",
       "  41.26379156112671,\n",
       "  38.87020444869995,\n",
       "  37.74495077133179,\n",
       "  37.47062349319458,\n",
       "  36.93194532394409,\n",
       "  37.76760005950928,\n",
       "  37.45034599304199,\n",
       "  37.59614562988281,\n",
       "  37.62315034866333,\n",
       "  37.77636480331421,\n",
       "  36.676854610443115,\n",
       "  36.826059341430664,\n",
       "  38.97599983215332,\n",
       "  37.99687194824219,\n",
       "  36.168922901153564,\n",
       "  37.93833637237549,\n",
       "  36.47199106216431,\n",
       "  40.30078935623169,\n",
       "  36.16980600357056,\n",
       "  36.01290321350098,\n",
       "  38.5914740562439,\n",
       "  36.73409128189087,\n",
       "  36.00339126586914,\n",
       "  36.72635269165039,\n",
       "  35.863375663757324,\n",
       "  36.39408779144287,\n",
       "  37.35138750076294,\n",
       "  36.23100185394287,\n",
       "  35.934895515441895,\n",
       "  39.37439250946045,\n",
       "  38.338377475738525,\n",
       "  39.15091133117676,\n",
       "  40.41491889953613,\n",
       "  36.13282251358032]}"
      ]
     },
     "execution_count": 41,
     "metadata": {},
     "output_type": "execute_result"
    }
   ],
   "source": [
    "history.history"
   ]
  },
  {
   "cell_type": "code",
   "execution_count": 42,
   "metadata": {
    "scrolled": true
   },
   "outputs": [
    {
     "data": {
      "text/plain": [
       "[876.6530609130859,\n",
       " 606.6439361572266,\n",
       " 412.72278594970703,\n",
       " 295.2817916870117,\n",
       " 231.17889022827148,\n",
       " 185.95751953125,\n",
       " 154.2718505859375,\n",
       " 130.77989196777344,\n",
       " 116.83993148803711,\n",
       " 104.10661315917969,\n",
       " 97.61736869812012,\n",
       " 95.3753833770752,\n",
       " 86.7958345413208,\n",
       " 86.076416015625,\n",
       " 84.38224792480469,\n",
       " 82.40142059326172,\n",
       " 80.95523071289062,\n",
       " 81.35478496551514,\n",
       " 81.31382942199707,\n",
       " 80.77457523345947,\n",
       " 78.46213817596436,\n",
       " 79.61986351013184,\n",
       " 78.35881805419922,\n",
       " 77.42369270324707,\n",
       " 77.7501277923584,\n",
       " 76.22573566436768,\n",
       " 77.35232925415039,\n",
       " 73.42659378051758,\n",
       " 75.47906684875488,\n",
       " 72.25631618499756,\n",
       " 75.45379257202148,\n",
       " 72.43208503723145,\n",
       " 71.80859661102295,\n",
       " 69.94196701049805,\n",
       " 72.10267543792725,\n",
       " 69.26894283294678,\n",
       " 70.79751300811768,\n",
       " 70.25739860534668,\n",
       " 69.55407524108887,\n",
       " 67.59132289886475,\n",
       " 68.13646793365479,\n",
       " 69.2274398803711,\n",
       " 67.62546825408936,\n",
       " 68.78472995758057,\n",
       " 68.07022666931152,\n",
       " 68.06218338012695,\n",
       " 63.96652030944824,\n",
       " 65.18609619140625,\n",
       " 66.1069164276123,\n",
       " 63.120201110839844,\n",
       " 64.53377628326416,\n",
       " 66.04022789001465,\n",
       " 64.37024974822998,\n",
       " 63.02040100097656,\n",
       " 65.06199979782104,\n",
       " 62.74795436859131,\n",
       " 64.18065738677979,\n",
       " 61.02437353134155,\n",
       " 62.42982864379883,\n",
       " 60.88747024536133,\n",
       " 66.4783205986023,\n",
       " 59.39750671386719,\n",
       " 60.23617076873779,\n",
       " 63.34370470046997,\n",
       " 59.30009317398071,\n",
       " 59.58986473083496,\n",
       " 62.06438064575195,\n",
       " 58.25006628036499,\n",
       " 59.88291788101196,\n",
       " 58.4132604598999,\n",
       " 57.500858306884766,\n",
       " 58.93067646026611,\n",
       " 55.968711853027344,\n",
       " 56.204190254211426,\n",
       " 58.15906238555908,\n",
       " 54.98487997055054,\n",
       " 58.30607509613037,\n",
       " 54.285943031311035,\n",
       " 55.491610527038574,\n",
       " 60.289870262145996,\n",
       " 55.374053955078125,\n",
       " 54.84963321685791,\n",
       " 54.88242149353027,\n",
       " 53.96805477142334,\n",
       " 51.95331859588623,\n",
       " 53.35046720504761,\n",
       " 54.63886070251465,\n",
       " 53.279181480407715,\n",
       " 51.19423246383667,\n",
       " 51.690865993499756,\n",
       " 51.97640895843506,\n",
       " 57.084861278533936,\n",
       " 50.77191638946533,\n",
       " 49.96233558654785,\n",
       " 50.429495334625244,\n",
       " 54.188377380371094,\n",
       " 49.20596981048584,\n",
       " 47.845125675201416,\n",
       " 52.86885166168213,\n",
       " 49.76072359085083,\n",
       " 48.32594108581543,\n",
       " 48.53301525115967,\n",
       " 49.70371341705322,\n",
       " 46.65035104751587,\n",
       " 46.85274839401245,\n",
       " 53.8550443649292,\n",
       " 47.81991004943848,\n",
       " 51.4787015914917,\n",
       " 46.92550754547119,\n",
       " 49.194119453430176,\n",
       " 46.20344257354736,\n",
       " 48.1650276184082,\n",
       " 46.13999032974243,\n",
       " 47.11774444580078,\n",
       " 44.66471815109253,\n",
       " 44.961782455444336,\n",
       " 47.86671495437622,\n",
       " 45.68813133239746,\n",
       " 48.557974338531494,\n",
       " 49.80419921875,\n",
       " 52.17137050628662,\n",
       " 44.02782392501831,\n",
       " 43.24883270263672,\n",
       " 45.40825080871582,\n",
       " 43.63692665100098,\n",
       " 43.07509422302246,\n",
       " 44.29860067367554,\n",
       " 45.19035243988037,\n",
       " 42.77144193649292,\n",
       " 43.41330003738403,\n",
       " 42.92634963989258,\n",
       " 42.68623161315918,\n",
       " 42.70949602127075,\n",
       " 43.31929922103882,\n",
       " 41.38242959976196,\n",
       " 43.4053897857666,\n",
       " 45.40882921218872,\n",
       " 43.15112543106079,\n",
       " 42.02161121368408,\n",
       " 41.35204362869263,\n",
       " 40.51480293273926,\n",
       " 39.81016826629639,\n",
       " 43.571807861328125,\n",
       " 40.989190101623535,\n",
       " 41.44255256652832,\n",
       " 39.18391418457031,\n",
       " 39.97657537460327,\n",
       " 40.73159980773926,\n",
       " 39.57334661483765,\n",
       " 39.38270902633667,\n",
       " 40.35575819015503,\n",
       " 39.08822536468506,\n",
       " 39.377758502960205,\n",
       " 40.36604404449463,\n",
       " 38.59089183807373,\n",
       " 38.66524410247803,\n",
       " 39.35472822189331,\n",
       " 39.88856077194214,\n",
       " 38.309181690216064,\n",
       " 38.62173891067505,\n",
       " 39.602237701416016,\n",
       " 37.79827260971069,\n",
       " 39.32862854003906,\n",
       " 38.44739770889282,\n",
       " 37.65275859832764,\n",
       " 37.00360918045044,\n",
       " 41.26379156112671,\n",
       " 38.87020444869995,\n",
       " 37.74495077133179,\n",
       " 37.47062349319458,\n",
       " 36.93194532394409,\n",
       " 37.76760005950928,\n",
       " 37.45034599304199,\n",
       " 37.59614562988281,\n",
       " 37.62315034866333,\n",
       " 37.77636480331421,\n",
       " 36.676854610443115,\n",
       " 36.826059341430664,\n",
       " 38.97599983215332,\n",
       " 37.99687194824219,\n",
       " 36.168922901153564,\n",
       " 37.93833637237549,\n",
       " 36.47199106216431,\n",
       " 40.30078935623169,\n",
       " 36.16980600357056,\n",
       " 36.01290321350098,\n",
       " 38.5914740562439,\n",
       " 36.73409128189087,\n",
       " 36.00339126586914,\n",
       " 36.72635269165039,\n",
       " 35.863375663757324,\n",
       " 36.39408779144287,\n",
       " 37.35138750076294,\n",
       " 36.23100185394287,\n",
       " 35.934895515441895,\n",
       " 39.37439250946045,\n",
       " 38.338377475738525,\n",
       " 39.15091133117676,\n",
       " 40.41491889953613,\n",
       " 36.13282251358032]"
      ]
     },
     "execution_count": 42,
     "metadata": {},
     "output_type": "execute_result"
    }
   ],
   "source": [
    "history.history['val_loss']"
   ]
  },
  {
   "cell_type": "code",
   "execution_count": 43,
   "metadata": {},
   "outputs": [
    {
     "data": {
      "image/png": "[encoded data removed]",
      "text/plain": [
       "<Figure size 936x576 with 1 Axes>"
      ]
     },
     "metadata": {
      "needs_background": "light"
     },
     "output_type": "display_data"
    }
   ],
   "source": [
    "# epoch당 loss와 val_loss  변화에 대해 선그래프 그리기.\n",
    "import matplotlib.pyplot as plt\n",
    "plt.figure(figsize=(13,8))\n",
    "\n",
    "plt.plot(range(1, N_EPOCHS+1), history.history['loss'], label='Train loss')\n",
    "plt.plot(range(1, N_EPOCHS+1), history.history['val_loss'], label='Validation loss')\n",
    "\n",
    "plt.xlabel('Epochs')\n",
    "plt.ylabel('Loss(MSE)')\n",
    "plt.ylim(0, 90)\n",
    "plt.legend()\n",
    "plt.grid(True)\n",
    "plt.show()"
   ]
  },
  {
   "cell_type": "code",
   "execution_count": null,
   "metadata": {},
   "outputs": [],
   "source": []
  },
  {
   "cell_type": "code",
   "execution_count": null,
   "metadata": {},
   "outputs": [],
   "source": []
  },
  {
   "cell_type": "code",
   "execution_count": null,
   "metadata": {},
   "outputs": [],
   "source": []
  },
  {
   "cell_type": "code",
   "execution_count": null,
   "metadata": {},
   "outputs": [],
   "source": []
  },
  {
   "cell_type": "code",
   "execution_count": null,
   "metadata": {},
   "outputs": [],
   "source": []
  },
  {
   "cell_type": "markdown",
   "metadata": {},
   "source": [
    "## 2. Classification\n",
    "\n",
    "### Fashion MNIST(MNIST) Dataset"
   ]
  },
  {
   "cell_type": "markdown",
   "metadata": {},
   "source": [
    "10개의 범주(category)와 70,000개의 흑백 이미지로 구성된 [패션 MNIST](https://github.com/zalandoresearch/fashion-mnist) 데이터셋. \n",
    "이미지는 해상도(28x28 픽셀)가 낮고 다음처럼 개별 의류 품목을 나타낸다:\n",
    "\n",
    "<table>\n",
    "  <tr><td>\n",
    "    <img src=\"https://tensorflow.org/images/fashion-mnist-sprite.png\"\n",
    "         alt=\"Fashion MNIST sprite\"  width=\"600\">\n",
    "  </td></tr>\n",
    "  <tr><td align=\"center\">\n",
    "    <b>그림</b> <a href=\"https://github.com/zalandoresearch/fashion-mnist\">패션-MNIST 샘플</a> (Zalando, MIT License).<br/>&nbsp;\n",
    "  </td></tr>\n",
    "</table>\n",
    "\n",
    "패션 MNIST와 손글씨 MNIST는  비교적 작기 때문에 알고리즘의 작동 여부를 확인하기 위해 사용되곤 하며 코드를 테스트하고 디버깅하는 용도로 좋다."
   ]
  },
  {
   "cell_type": "markdown",
   "metadata": {},
   "source": [
    "이미지는 28x28 크기의 넘파이 배열이고 픽셀 값은 0과 255 사이이다. *레이블*(label)은 0에서 9까지의 정수 배열이다. 아래 표는 이미지에 있는 의류의 **클래스**(class)를 나낸다.\n",
    "\n",
    "<table>\n",
    "  <tr>\n",
    "    <th>레이블</th>\n",
    "    <th>클래스</th>\n",
    "  </tr>\n",
    "  <tr>\n",
    "    <td>0</td>\n",
    "    <td>T-shirt/top</td>\n",
    "  </tr>\n",
    "  <tr>\n",
    "    <td>1</td>\n",
    "    <td>Trouser</td>\n",
    "  </tr>\n",
    "    <tr>\n",
    "    <td>2</td>\n",
    "    <td>Pullover</td>\n",
    "  </tr>\n",
    "    <tr>\n",
    "    <td>3</td>\n",
    "    <td>Dress</td>\n",
    "  </tr>\n",
    "    <tr>\n",
    "    <td>4</td>\n",
    "    <td>Coat</td>\n",
    "  </tr>\n",
    "    <tr>\n",
    "    <td>5</td>\n",
    "    <td>Sandal</td>\n",
    "  </tr>\n",
    "    <tr>\n",
    "    <td>6</td>\n",
    "    <td>Shirt</td>\n",
    "  </tr>\n",
    "    <tr>\n",
    "    <td>7</td>\n",
    "    <td>Sneaker</td>\n",
    "  </tr>\n",
    "    <tr>\n",
    "    <td>8</td>\n",
    "    <td>Bag</td>\n",
    "  </tr>\n",
    "    <tr>\n",
    "    <td>9</td>\n",
    "    <td>Ankle boot</td>\n",
    "  </tr>\n",
    "</table>\n",
    "\n",
    "각 이미지는 하나의 레이블에 매핑되어 있다. 데이터셋에 클래스 이름이 들어있지 않기 때문에 나중에 이미지를 출력할 때 사용하기 위해 별도의 변수를 만들어 저장한다."
   ]
  },
  {
   "cell_type": "code",
   "execution_count": null,
   "metadata": {},
   "outputs": [],
   "source": [
    "class_names = ['T-shirt/top', 'Trouser', 'Pullover', 'Dress', 'Coat', 'Sandal', 'Shirt', 'Sneaker', 'Bag', 'Ankle boot']"
   ]
  },
  {
   "cell_type": "code",
   "execution_count": null,
   "metadata": {},
   "outputs": [],
   "source": []
  },
  {
   "cell_type": "code",
   "execution_count": null,
   "metadata": {},
   "outputs": [],
   "source": []
  },
  {
   "cell_type": "code",
   "execution_count": null,
   "metadata": {},
   "outputs": [],
   "source": []
  },
  {
   "cell_type": "code",
   "execution_count": null,
   "metadata": {},
   "outputs": [],
   "source": []
  },
  {
   "cell_type": "code",
   "execution_count": null,
   "metadata": {},
   "outputs": [],
   "source": []
  }
 ],
 "metadata": {
  "kernelspec": {
   "display_name": "Python 3",
   "language": "python",
   "name": "python3"
  },
  "language_info": {
   "codemirror_mode": {
    "name": "ipython",
    "version": 3
   },
   "file_extension": ".py",
   "mimetype": "text/x-python",
   "name": "python",
   "nbconvert_exporter": "python",
   "pygments_lexer": "ipython3",
   "version": "3.7.10"
  },
  "toc": {
   "base_numbering": 1,
   "nav_menu": {},
   "number_sections": false,
   "sideBar": true,
   "skip_h1_title": false,
   "title_cell": "Table of Contents",
   "title_sidebar": "Contents",
   "toc_cell": false,
   "toc_position": {},
   "toc_section_display": true,
   "toc_window_display": false
  },
  "varInspector": {
   "cols": {
    "lenName": 16,
    "lenType": 16,
    "lenVar": 40
   },
   "kernels_config": {
    "python": {
     "delete_cmd_postfix": "",
     "delete_cmd_prefix": "del ",
     "library": "var_list.py",
     "varRefreshCmd": "print(var_dic_list())"
    },
    "r": {
     "delete_cmd_postfix": ") ",
     "delete_cmd_prefix": "rm(",
     "library": "var_list.r",
     "varRefreshCmd": "cat(var_dic_list()) "
    }
   },
   "types_to_exclude": [
    "module",
    "function",
    "builtin_function_or_method",
    "instance",
    "_Feature"
   ],
   "window_display": false
  }
 },
 "nbformat": 4,
 "nbformat_minor": 2
}
